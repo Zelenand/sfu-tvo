{
 "cells": [
  {
   "cell_type": "markdown",
   "source": [
    "<h1> Лабораторная работа №4</h1>\n",
    "<p>Выполнил студент гр. КИ21-17/1б Самарин Никита</p>"
   ],
   "metadata": {
    "collapsed": false
   }
  },
  {
   "cell_type": "markdown",
   "source": [
    "## Цель: знакомство с методами анализа текстовых данных в рамках решения задачи анализа текстовых данных, формирование навыков выполнения анализа данных на языке Python.\n",
    "### Задачи:\n",
    "Выполнение практической работы предполагает решение следующий задач:\n",
    "1. Подготовка исходных данных\n",
    "2. Обучение базовых моделей классификации\n",
    "3. Оценка качества построенных моделей на тестовой выборке\n",
    "<p>Общая последовательность действий<p>\n",
    "\n",
    "1. Выполнить предварительную обработку текстовых данных.\n",
    "2. Провести векторицацию текста с помощью «мешок слов», TF-IDF и Word2Vec.\n",
    "3. Реализовать базовые алгоритмы классификации (наивный байесовский классификатор, SVM, деревья решений, ансамбли).\n",
    "4. Провести валидацию моделей на текстовых данных и сравнить результаты от методов векторизации.\n",
    "5. Реализовать подход на основе тонального словаря. Сравнить данный подход с подходами на основе машинного обучения\n",
    "6. Сделать выводы по результатам проведенных исследований"
   ],
   "metadata": {
    "collapsed": false
   }
  },
  {
   "cell_type": "markdown",
   "source": [
    "#### Подготовка исходных данных"
   ],
   "metadata": {
    "collapsed": false
   }
  },
  {
   "cell_type": "code",
   "execution_count": 1,
   "outputs": [],
   "source": [
    "import seaborn as sns\n",
    "import matplotlib.pyplot as plt\n",
    "import plotly.express as px\n",
    "import numpy as np\n",
    "import pandas as pd\n",
    "import openpyxl\n",
    "\n",
    "df = pd.read_excel('doc_comment_summary.xlsx', names=[\"text\", \"tonality\"], header=None)"
   ],
   "metadata": {
    "collapsed": false
   }
  },
  {
   "cell_type": "code",
   "execution_count": 2,
   "outputs": [
    {
     "data": {
      "text/plain": "                                                text tonality\n0  Но при мужчине ни одна приличная женщина не по...       -1\n1  Украина это часть Руси искусственно отделенная...       -1\n2  Как можно говорить об относительно небольшой к...       -1\n3  1.2014.  а что они со своими поляками сделали?...        0\n4  у а фильмы... Зрители любят диковинное.   у ме...        0",
      "text/html": "<div>\n<style scoped>\n    .dataframe tbody tr th:only-of-type {\n        vertical-align: middle;\n    }\n\n    .dataframe tbody tr th {\n        vertical-align: top;\n    }\n\n    .dataframe thead th {\n        text-align: right;\n    }\n</style>\n<table border=\"1\" class=\"dataframe\">\n  <thead>\n    <tr style=\"text-align: right;\">\n      <th></th>\n      <th>text</th>\n      <th>tonality</th>\n    </tr>\n  </thead>\n  <tbody>\n    <tr>\n      <th>0</th>\n      <td>Но при мужчине ни одна приличная женщина не по...</td>\n      <td>-1</td>\n    </tr>\n    <tr>\n      <th>1</th>\n      <td>Украина это часть Руси искусственно отделенная...</td>\n      <td>-1</td>\n    </tr>\n    <tr>\n      <th>2</th>\n      <td>Как можно говорить об относительно небольшой к...</td>\n      <td>-1</td>\n    </tr>\n    <tr>\n      <th>3</th>\n      <td>1.2014.  а что они со своими поляками сделали?...</td>\n      <td>0</td>\n    </tr>\n    <tr>\n      <th>4</th>\n      <td>у а фильмы... Зрители любят диковинное.   у ме...</td>\n      <td>0</td>\n    </tr>\n  </tbody>\n</table>\n</div>"
     },
     "execution_count": 2,
     "metadata": {},
     "output_type": "execute_result"
    }
   ],
   "source": [
    "df.head()"
   ],
   "metadata": {
    "collapsed": false
   }
  },
  {
   "cell_type": "code",
   "execution_count": 3,
   "outputs": [
    {
     "data": {
      "text/plain": "      index   0\n0      text  75\n1  tonality  23",
      "text/html": "<div>\n<style scoped>\n    .dataframe tbody tr th:only-of-type {\n        vertical-align: middle;\n    }\n\n    .dataframe tbody tr th {\n        vertical-align: top;\n    }\n\n    .dataframe thead th {\n        text-align: right;\n    }\n</style>\n<table border=\"1\" class=\"dataframe\">\n  <thead>\n    <tr style=\"text-align: right;\">\n      <th></th>\n      <th>index</th>\n      <th>0</th>\n    </tr>\n  </thead>\n  <tbody>\n    <tr>\n      <th>0</th>\n      <td>text</td>\n      <td>75</td>\n    </tr>\n    <tr>\n      <th>1</th>\n      <td>tonality</td>\n      <td>23</td>\n    </tr>\n  </tbody>\n</table>\n</div>"
     },
     "execution_count": 3,
     "metadata": {},
     "output_type": "execute_result"
    }
   ],
   "source": [
    "df.isnull().sum().reset_index()"
   ],
   "metadata": {
    "collapsed": false
   }
  },
  {
   "cell_type": "code",
   "execution_count": 4,
   "outputs": [
    {
     "data": {
      "text/plain": "      index  0\n0      text  0\n1  tonality  0",
      "text/html": "<div>\n<style scoped>\n    .dataframe tbody tr th:only-of-type {\n        vertical-align: middle;\n    }\n\n    .dataframe tbody tr th {\n        vertical-align: top;\n    }\n\n    .dataframe thead th {\n        text-align: right;\n    }\n</style>\n<table border=\"1\" class=\"dataframe\">\n  <thead>\n    <tr style=\"text-align: right;\">\n      <th></th>\n      <th>index</th>\n      <th>0</th>\n    </tr>\n  </thead>\n  <tbody>\n    <tr>\n      <th>0</th>\n      <td>text</td>\n      <td>0</td>\n    </tr>\n    <tr>\n      <th>1</th>\n      <td>tonality</td>\n      <td>0</td>\n    </tr>\n  </tbody>\n</table>\n</div>"
     },
     "execution_count": 4,
     "metadata": {},
     "output_type": "execute_result"
    }
   ],
   "source": [
    "df.dropna(inplace=True)\n",
    "df.isnull().sum().reset_index()"
   ],
   "metadata": {
    "collapsed": false
   }
  },
  {
   "cell_type": "code",
   "execution_count": 5,
   "outputs": [
    {
     "data": {
      "text/plain": "                                                    text tonality\n0      Но при мужчине ни одна приличная женщина не по...       -1\n1      Украина это часть Руси искусственно отделенная...       -1\n2      Как можно говорить об относительно небольшой к...       -1\n3      1.2014.  а что они со своими поляками сделали?...        0\n4      у а фильмы... Зрители любят диковинное.   у ме...        0\n...                                                  ...      ...\n26868  Многих заставляют. Многие сами проявляют излиш...       -1\n26869  Очередной Чубайс.  ну а чего нового то? Сорос ...       -1\n26870  Закон, как все предыдущие - абсолютный бред и ...        0\n26871  дело которое ты делаешь сейчас - оно очень хор...        0\n26872  Рядом с Токио, да, мало пальм :) Зато на Окина...        0\n\n[26775 rows x 2 columns]",
      "text/html": "<div>\n<style scoped>\n    .dataframe tbody tr th:only-of-type {\n        vertical-align: middle;\n    }\n\n    .dataframe tbody tr th {\n        vertical-align: top;\n    }\n\n    .dataframe thead th {\n        text-align: right;\n    }\n</style>\n<table border=\"1\" class=\"dataframe\">\n  <thead>\n    <tr style=\"text-align: right;\">\n      <th></th>\n      <th>text</th>\n      <th>tonality</th>\n    </tr>\n  </thead>\n  <tbody>\n    <tr>\n      <th>0</th>\n      <td>Но при мужчине ни одна приличная женщина не по...</td>\n      <td>-1</td>\n    </tr>\n    <tr>\n      <th>1</th>\n      <td>Украина это часть Руси искусственно отделенная...</td>\n      <td>-1</td>\n    </tr>\n    <tr>\n      <th>2</th>\n      <td>Как можно говорить об относительно небольшой к...</td>\n      <td>-1</td>\n    </tr>\n    <tr>\n      <th>3</th>\n      <td>1.2014.  а что они со своими поляками сделали?...</td>\n      <td>0</td>\n    </tr>\n    <tr>\n      <th>4</th>\n      <td>у а фильмы... Зрители любят диковинное.   у ме...</td>\n      <td>0</td>\n    </tr>\n    <tr>\n      <th>...</th>\n      <td>...</td>\n      <td>...</td>\n    </tr>\n    <tr>\n      <th>26868</th>\n      <td>Многих заставляют. Многие сами проявляют излиш...</td>\n      <td>-1</td>\n    </tr>\n    <tr>\n      <th>26869</th>\n      <td>Очередной Чубайс.  ну а чего нового то? Сорос ...</td>\n      <td>-1</td>\n    </tr>\n    <tr>\n      <th>26870</th>\n      <td>Закон, как все предыдущие - абсолютный бред и ...</td>\n      <td>0</td>\n    </tr>\n    <tr>\n      <th>26871</th>\n      <td>дело которое ты делаешь сейчас - оно очень хор...</td>\n      <td>0</td>\n    </tr>\n    <tr>\n      <th>26872</th>\n      <td>Рядом с Токио, да, мало пальм :) Зато на Окина...</td>\n      <td>0</td>\n    </tr>\n  </tbody>\n</table>\n<p>26775 rows × 2 columns</p>\n</div>"
     },
     "execution_count": 5,
     "metadata": {},
     "output_type": "execute_result"
    }
   ],
   "source": [
    "df"
   ],
   "metadata": {
    "collapsed": false
   }
  },
  {
   "cell_type": "code",
   "execution_count": 6,
   "outputs": [
    {
     "data": {
      "text/plain": "array([-1, 0, 1, -2, 2], dtype=object)"
     },
     "execution_count": 6,
     "metadata": {},
     "output_type": "execute_result"
    }
   ],
   "source": [
    "df = df[df['tonality'].isin([-2, -1, 0, 1, 2]) == True]\n",
    "df['tonality'].unique()"
   ],
   "metadata": {
    "collapsed": false
   }
  },
  {
   "cell_type": "code",
   "execution_count": 7,
   "outputs": [
    {
     "name": "stdout",
     "output_type": "stream",
     "text": [
      "Index([0, -1, 1, -2, 2], dtype='object', name='tonality') [13858  9201  1794  1534   365]\n"
     ]
    },
    {
     "data": {
      "text/plain": "<Figure size 720x720 with 1 Axes>",
      "image/png": "[encoded data removed]"
     },
     "metadata": {
      "needs_background": "light"
     },
     "output_type": "display_data"
    }
   ],
   "source": [
    "plt.figure(figsize = (10,10) )\n",
    "b = df['tonality'].value_counts()\n",
    "print(b.index, b.values)\n",
    "plt.bar(b.index, b.values)\n",
    "plt.show()"
   ],
   "metadata": {
    "collapsed": false
   }
  },
  {
   "cell_type": "code",
   "execution_count": 8,
   "outputs": [
    {
     "name": "stderr",
     "output_type": "stream",
     "text": [
      "C:\\Users\\yormu\\AppData\\Local\\Temp\\ipykernel_27476\\1516878879.py:1: SettingWithCopyWarning: \n",
      "A value is trying to be set on a copy of a slice from a DataFrame.\n",
      "Try using .loc[row_indexer,col_indexer] = value instead\n",
      "\n",
      "See the caveats in the documentation: https://pandas.pydata.org/pandas-docs/stable/user_guide/indexing.html#returning-a-view-versus-a-copy\n",
      "  df['tonality'] = df['tonality'].apply(lambda x:str(x))\n"
     ]
    },
    {
     "data": {
      "text/plain": "                                                    text tonality\n0      Но при мужчине ни одна приличная женщина не по...       -1\n1      Украина это часть Руси искусственно отделенная...       -1\n2      Как можно говорить об относительно небольшой к...       -1\n3      1.2014.  а что они со своими поляками сделали?...        0\n4      у а фильмы... Зрители любят диковинное.   у ме...        0\n...                                                  ...      ...\n26868  Многих заставляют. Многие сами проявляют излиш...       -1\n26869  Очередной Чубайс.  ну а чего нового то? Сорос ...       -1\n26870  Закон, как все предыдущие - абсолютный бред и ...        0\n26871  дело которое ты делаешь сейчас - оно очень хор...        0\n26872  Рядом с Токио, да, мало пальм :) Зато на Окина...        0\n\n[26752 rows x 2 columns]",
      "text/html": "<div>\n<style scoped>\n    .dataframe tbody tr th:only-of-type {\n        vertical-align: middle;\n    }\n\n    .dataframe tbody tr th {\n        vertical-align: top;\n    }\n\n    .dataframe thead th {\n        text-align: right;\n    }\n</style>\n<table border=\"1\" class=\"dataframe\">\n  <thead>\n    <tr style=\"text-align: right;\">\n      <th></th>\n      <th>text</th>\n      <th>tonality</th>\n    </tr>\n  </thead>\n  <tbody>\n    <tr>\n      <th>0</th>\n      <td>Но при мужчине ни одна приличная женщина не по...</td>\n      <td>-1</td>\n    </tr>\n    <tr>\n      <th>1</th>\n      <td>Украина это часть Руси искусственно отделенная...</td>\n      <td>-1</td>\n    </tr>\n    <tr>\n      <th>2</th>\n      <td>Как можно говорить об относительно небольшой к...</td>\n      <td>-1</td>\n    </tr>\n    <tr>\n      <th>3</th>\n      <td>1.2014.  а что они со своими поляками сделали?...</td>\n      <td>0</td>\n    </tr>\n    <tr>\n      <th>4</th>\n      <td>у а фильмы... Зрители любят диковинное.   у ме...</td>\n      <td>0</td>\n    </tr>\n    <tr>\n      <th>...</th>\n      <td>...</td>\n      <td>...</td>\n    </tr>\n    <tr>\n      <th>26868</th>\n      <td>Многих заставляют. Многие сами проявляют излиш...</td>\n      <td>-1</td>\n    </tr>\n    <tr>\n      <th>26869</th>\n      <td>Очередной Чубайс.  ну а чего нового то? Сорос ...</td>\n      <td>-1</td>\n    </tr>\n    <tr>\n      <th>26870</th>\n      <td>Закон, как все предыдущие - абсолютный бред и ...</td>\n      <td>0</td>\n    </tr>\n    <tr>\n      <th>26871</th>\n      <td>дело которое ты делаешь сейчас - оно очень хор...</td>\n      <td>0</td>\n    </tr>\n    <tr>\n      <th>26872</th>\n      <td>Рядом с Токио, да, мало пальм :) Зато на Окина...</td>\n      <td>0</td>\n    </tr>\n  </tbody>\n</table>\n<p>26752 rows × 2 columns</p>\n</div>"
     },
     "execution_count": 8,
     "metadata": {},
     "output_type": "execute_result"
    }
   ],
   "source": [
    "df['tonality'] = df['tonality'].apply(lambda x:str(x))\n",
    "df"
   ],
   "metadata": {
    "collapsed": false
   }
  },
  {
   "cell_type": "markdown",
   "source": [
    "#### Предобработка текста"
   ],
   "metadata": {
    "collapsed": false
   }
  },
  {
   "cell_type": "code",
   "execution_count": 9,
   "outputs": [],
   "source": [
    "import string\n",
    "from spacy import load\n",
    "nlp = load(\"ru_core_news_sm\")\n",
    "\n",
    "\n",
    "from nltk.corpus import stopwords\n",
    "russian_stopwords = stopwords.words(\"russian\")\n",
    "def preprocess_text(text):\n",
    "    text = text.lower()\n",
    "\n",
    "    doc = nlp(text)\n",
    "\n",
    "    preprocessed_text = ' '.join([token.lemma_ for token in doc if (token.text not in russian_stopwords and token.text not in string.punctuation) and token.is_alpha == True])\n",
    "\n",
    "    return preprocessed_text"
   ],
   "metadata": {
    "collapsed": false
   }
  },
  {
   "cell_type": "code",
   "execution_count": 10,
   "outputs": [
    {
     "name": "stderr",
     "output_type": "stream",
     "text": [
      "C:\\Users\\yormu\\AppData\\Local\\Temp\\ipykernel_27476\\3435140630.py:2: SettingWithCopyWarning: \n",
      "A value is trying to be set on a copy of a slice from a DataFrame.\n",
      "Try using .loc[row_indexer,col_indexer] = value instead\n",
      "\n",
      "See the caveats in the documentation: https://pandas.pydata.org/pandas-docs/stable/user_guide/indexing.html#returning-a-view-versus-a-copy\n",
      "  df_test['text'] = df_test['text'].apply(lambda d : preprocess_text(d))\n"
     ]
    },
    {
     "data": {
      "text/plain": "                                                text tonality\n0  мужчина одна приличный женщина пойти лазить ра...       -1\n1  украина это часть русь искусственно отделить к...       -1\n2  говорить относительно небольшой коррупция обра...       -1\n3  свой поляк сделать русских понятный литовский ...        0\n4  фильм зритель любить диковинный соседка пятый ...        0\n5  государство платить посмотреть денежный поток ...       -1\n6  хотя подозревать наш мудрые учитель класс своз...        0\n7  мм пулемёт нему короб боеприпас пулемёт произв...        0\n8  эксплуатируемые способный бунт бессмысленный б...       -1\n9  оральный сторона пункт судить боженька лишать ...       -1",
      "text/html": "<div>\n<style scoped>\n    .dataframe tbody tr th:only-of-type {\n        vertical-align: middle;\n    }\n\n    .dataframe tbody tr th {\n        vertical-align: top;\n    }\n\n    .dataframe thead th {\n        text-align: right;\n    }\n</style>\n<table border=\"1\" class=\"dataframe\">\n  <thead>\n    <tr style=\"text-align: right;\">\n      <th></th>\n      <th>text</th>\n      <th>tonality</th>\n    </tr>\n  </thead>\n  <tbody>\n    <tr>\n      <th>0</th>\n      <td>мужчина одна приличный женщина пойти лазить ра...</td>\n      <td>-1</td>\n    </tr>\n    <tr>\n      <th>1</th>\n      <td>украина это часть русь искусственно отделить к...</td>\n      <td>-1</td>\n    </tr>\n    <tr>\n      <th>2</th>\n      <td>говорить относительно небольшой коррупция обра...</td>\n      <td>-1</td>\n    </tr>\n    <tr>\n      <th>3</th>\n      <td>свой поляк сделать русских понятный литовский ...</td>\n      <td>0</td>\n    </tr>\n    <tr>\n      <th>4</th>\n      <td>фильм зритель любить диковинный соседка пятый ...</td>\n      <td>0</td>\n    </tr>\n    <tr>\n      <th>5</th>\n      <td>государство платить посмотреть денежный поток ...</td>\n      <td>-1</td>\n    </tr>\n    <tr>\n      <th>6</th>\n      <td>хотя подозревать наш мудрые учитель класс своз...</td>\n      <td>0</td>\n    </tr>\n    <tr>\n      <th>7</th>\n      <td>мм пулемёт нему короб боеприпас пулемёт произв...</td>\n      <td>0</td>\n    </tr>\n    <tr>\n      <th>8</th>\n      <td>эксплуатируемые способный бунт бессмысленный б...</td>\n      <td>-1</td>\n    </tr>\n    <tr>\n      <th>9</th>\n      <td>оральный сторона пункт судить боженька лишать ...</td>\n      <td>-1</td>\n    </tr>\n  </tbody>\n</table>\n</div>"
     },
     "execution_count": 10,
     "metadata": {},
     "output_type": "execute_result"
    }
   ],
   "source": [
    "df_test=df[:10]\n",
    "df_test['text'] = df_test['text'].apply(lambda d : preprocess_text(d))\n",
    "df_test"
   ],
   "metadata": {
    "collapsed": false
   }
  },
  {
   "cell_type": "code",
   "execution_count": 11,
   "outputs": [],
   "source": [
    "df_prep=df.copy()\n",
    "df_prep = df_prep[:1000]\n",
    "df_prep['text'] = df_prep['text'].apply(lambda d : preprocess_text(d))"
   ],
   "metadata": {
    "collapsed": false
   }
  },
  {
   "cell_type": "code",
   "execution_count": 12,
   "outputs": [
    {
     "data": {
      "text/plain": "                                                  text tonality\n0    мужчина одна приличный женщина пойти лазить ра...       -1\n1    украина это часть русь искусственно отделить к...       -1\n2    говорить относительно небольшой коррупция обра...       -1\n3    свой поляк сделать русских понятный литовский ...        0\n4    фильм зритель любить диковинный соседка пятый ...        0\n..                                                 ...      ...\n995  самом дело наш система устроить довольно логич...        0\n996  это совет приказ хам нужный банить казаться че...        0\n997  опыт сложиться работа крупный сеть мониторить ...        0\n998  восток регион вчистую выиграть мандат никакой ...        0\n999  ру ветка народ потормошить поискали какой судн...       -1\n\n[1000 rows x 2 columns]",
      "text/html": "<div>\n<style scoped>\n    .dataframe tbody tr th:only-of-type {\n        vertical-align: middle;\n    }\n\n    .dataframe tbody tr th {\n        vertical-align: top;\n    }\n\n    .dataframe thead th {\n        text-align: right;\n    }\n</style>\n<table border=\"1\" class=\"dataframe\">\n  <thead>\n    <tr style=\"text-align: right;\">\n      <th></th>\n      <th>text</th>\n      <th>tonality</th>\n    </tr>\n  </thead>\n  <tbody>\n    <tr>\n      <th>0</th>\n      <td>мужчина одна приличный женщина пойти лазить ра...</td>\n      <td>-1</td>\n    </tr>\n    <tr>\n      <th>1</th>\n      <td>украина это часть русь искусственно отделить к...</td>\n      <td>-1</td>\n    </tr>\n    <tr>\n      <th>2</th>\n      <td>говорить относительно небольшой коррупция обра...</td>\n      <td>-1</td>\n    </tr>\n    <tr>\n      <th>3</th>\n      <td>свой поляк сделать русских понятный литовский ...</td>\n      <td>0</td>\n    </tr>\n    <tr>\n      <th>4</th>\n      <td>фильм зритель любить диковинный соседка пятый ...</td>\n      <td>0</td>\n    </tr>\n    <tr>\n      <th>...</th>\n      <td>...</td>\n      <td>...</td>\n    </tr>\n    <tr>\n      <th>995</th>\n      <td>самом дело наш система устроить довольно логич...</td>\n      <td>0</td>\n    </tr>\n    <tr>\n      <th>996</th>\n      <td>это совет приказ хам нужный банить казаться че...</td>\n      <td>0</td>\n    </tr>\n    <tr>\n      <th>997</th>\n      <td>опыт сложиться работа крупный сеть мониторить ...</td>\n      <td>0</td>\n    </tr>\n    <tr>\n      <th>998</th>\n      <td>восток регион вчистую выиграть мандат никакой ...</td>\n      <td>0</td>\n    </tr>\n    <tr>\n      <th>999</th>\n      <td>ру ветка народ потормошить поискали какой судн...</td>\n      <td>-1</td>\n    </tr>\n  </tbody>\n</table>\n<p>1000 rows × 2 columns</p>\n</div>"
     },
     "execution_count": 12,
     "metadata": {},
     "output_type": "execute_result"
    }
   ],
   "source": [
    "df_prep"
   ],
   "metadata": {
    "collapsed": false
   }
  },
  {
   "cell_type": "markdown",
   "source": [
    "#### Векторизация"
   ],
   "metadata": {
    "collapsed": false
   }
  },
  {
   "cell_type": "code",
   "execution_count": 13,
   "outputs": [],
   "source": [
    "from sklearn.feature_extraction.text import CountVectorizer, TfidfVectorizer\n",
    "from gensim.models import Word2Vec\n",
    "import pandas as pd\n",
    "\n",
    "# Мешок слов\n",
    "vectorizer_bow = CountVectorizer()\n",
    "X_bow = vectorizer_bow.fit_transform(df_prep['text'])\n",
    "df_bow = pd.DataFrame(X_bow.toarray(), columns=vectorizer_bow.get_feature_names_out())\n",
    "\n",
    "# TF-IDF\n",
    "vectorizer_tfidf = TfidfVectorizer()\n",
    "X_tfidf = vectorizer_tfidf.fit_transform(df_prep['text'])\n",
    "df_tfidf = pd.DataFrame(X_tfidf.toarray(), columns=vectorizer_tfidf.get_feature_names_out())\n",
    "\n",
    "# Word2Vec\n",
    "sentences = [sentence.split() for sentence in df_prep['text']]\n",
    "\n",
    "model_w2v = Word2Vec(sentences, vector_size=100, window=5, min_count=1, workers=4)\n",
    "\n",
    "document_vectors = np.array([np.mean([model_w2v.wv[word] for word in sentence], axis=0) if sentence else np.zeros(100) for sentence in sentences])"
   ],
   "metadata": {
    "collapsed": false
   }
  },
  {
   "cell_type": "code",
   "execution_count": 14,
   "outputs": [],
   "source": [
    "y = df_prep['tonality'].values"
   ],
   "metadata": {
    "collapsed": false
   }
  },
  {
   "cell_type": "code",
   "execution_count": 15,
   "outputs": [],
   "source": [
    "import warnings\n",
    "warnings.simplefilter(action='ignore', category=FutureWarning)"
   ],
   "metadata": {
    "collapsed": false
   }
  },
  {
   "cell_type": "code",
   "execution_count": 16,
   "outputs": [],
   "source": [
    "from sklearn.naive_bayes import MultinomialNB, GaussianNB\n",
    "from sklearn.svm import SVC\n",
    "from sklearn.tree import DecisionTreeClassifier\n",
    "from sklearn.ensemble import RandomForestClassifier\n",
    "from sklearn.model_selection import train_test_split\n",
    "from sklearn.metrics import classification_report\n",
    "\n",
    "# Разделяем данные на обучающую и тестовую выборки\n",
    "X_train_bow, X_test_bow, y_train, y_test = train_test_split(df_bow, y, test_size=0.2, random_state=42)\n",
    "\n",
    "X_train_tfidf, X_test_tfidf, _ , _ = train_test_split(df_tfidf, y, test_size=0.2, random_state=42)\n",
    "\n",
    "X_train_w2v, X_test_w2v, _, _ = train_test_split(document_vectors, y, test_size=0.2, random_state=42)"
   ],
   "metadata": {
    "collapsed": false
   }
  },
  {
   "cell_type": "code",
   "execution_count": 17,
   "outputs": [],
   "source": [
    "from sklearn.metrics import f1_score, accuracy_score\n",
    "from sklearn.metrics import accuracy_score\n",
    "# Show some correct and incorrect predictions\n",
    "def show_examples(predictions, actual_labels, text_data, num_examples=0):\n",
    "    correct_indices = np.where(predictions == actual_labels)[0]\n",
    "    incorrect_indices = np.where(predictions != actual_labels)[0]\n",
    "\n",
    "    print(\"Correct Predictions:\")\n",
    "    for idx in np.random.choice(correct_indices, size=num_examples, replace=False):\n",
    "        print(\"Question:\", text_data.iloc[idx])\n",
    "        print(\"Prediction:\", predictions[idx])\n",
    "        print(\"Actual Label:\", actual_labels[idx])\n",
    "        print()\n",
    "\n",
    "    print(\"Incorrect Predictions:\")\n",
    "    for idx in np.random.choice(incorrect_indices, size=num_examples, replace=False):\n",
    "        print(\"Question:\", text_data.iloc[idx])\n",
    "        print(\"Prediction:\", predictions[idx])\n",
    "        print(\"Actual Label:\", actual_labels[idx])\n",
    "        print()\n",
    "\n",
    "def stats(model, X_train, X_test):\n",
    "    # Make predictions\n",
    "    train_pred = model.predict(X_train)\n",
    "    test_pred = model.predict(X_test)\n",
    "\n",
    "    print(classification_report(y_test, test_pred))\n",
    "\n",
    "    # Evaluation metrics\n",
    "    train_acc = accuracy_score(y_train, train_pred)\n",
    "    test_acc = accuracy_score(y_test, test_pred)\n",
    "\n",
    "    print(\"Training Accuracy:\", train_acc)\n",
    "    print(\"Validation Accuracy:\", test_acc)\n",
    "    train_f1 = f1_score(y_train, train_pred, average='weighted')\n",
    "    test_f1 = f1_score(y_test, test_pred, average='weighted')\n",
    "    print(\"Training f1_score:\", train_f1)\n",
    "    print(\"Validation f1_score:\", test_f1)\n",
    "\n",
    "    #show_examples(test_pred, y_test, df_prep['text'])"
   ],
   "metadata": {
    "collapsed": false
   }
  },
  {
   "cell_type": "code",
   "execution_count": 18,
   "outputs": [
    {
     "name": "stdout",
     "output_type": "stream",
     "text": [
      "Наивный байесовский классификатор Мешок:\n",
      "\n"
     ]
    },
    {
     "name": "stderr",
     "output_type": "stream",
     "text": [
      "C:\\Projects\\SFU\\TVO\\pr4\\venv\\lib\\site-packages\\sklearn\\metrics\\_classification.py:1471: UndefinedMetricWarning: Precision and F-score are ill-defined and being set to 0.0 in labels with no predicted samples. Use `zero_division` parameter to control this behavior.\n",
      "  _warn_prf(average, modifier, msg_start, len(result))\n",
      "C:\\Projects\\SFU\\TVO\\pr4\\venv\\lib\\site-packages\\sklearn\\metrics\\_classification.py:1471: UndefinedMetricWarning: Precision and F-score are ill-defined and being set to 0.0 in labels with no predicted samples. Use `zero_division` parameter to control this behavior.\n",
      "  _warn_prf(average, modifier, msg_start, len(result))\n",
      "C:\\Projects\\SFU\\TVO\\pr4\\venv\\lib\\site-packages\\sklearn\\metrics\\_classification.py:1471: UndefinedMetricWarning: Precision and F-score are ill-defined and being set to 0.0 in labels with no predicted samples. Use `zero_division` parameter to control this behavior.\n",
      "  _warn_prf(average, modifier, msg_start, len(result))\n"
     ]
    },
    {
     "name": "stdout",
     "output_type": "stream",
     "text": [
      "              precision    recall  f1-score   support\n",
      "\n",
      "          -1       0.45      0.52      0.48        73\n",
      "          -2       0.00      0.00      0.00         7\n",
      "           0       0.59      0.65      0.62       104\n",
      "           1       0.00      0.00      0.00        15\n",
      "           2       0.00      0.00      0.00         1\n",
      "\n",
      "    accuracy                           0.53       200\n",
      "   macro avg       0.21      0.23      0.22       200\n",
      "weighted avg       0.47      0.53      0.50       200\n",
      "\n",
      "Training Accuracy: 0.9575\n",
      "Validation Accuracy: 0.53\n",
      "Training f1_score: 0.9544042771033484\n",
      "Validation f1_score: 0.49849199468238836\n",
      "Наивный байесовский классификатор TF-IDF:\n",
      "\n"
     ]
    },
    {
     "name": "stderr",
     "output_type": "stream",
     "text": [
      "C:\\Projects\\SFU\\TVO\\pr4\\venv\\lib\\site-packages\\sklearn\\metrics\\_classification.py:1471: UndefinedMetricWarning: Precision and F-score are ill-defined and being set to 0.0 in labels with no predicted samples. Use `zero_division` parameter to control this behavior.\n",
      "  _warn_prf(average, modifier, msg_start, len(result))\n",
      "C:\\Projects\\SFU\\TVO\\pr4\\venv\\lib\\site-packages\\sklearn\\metrics\\_classification.py:1471: UndefinedMetricWarning: Precision and F-score are ill-defined and being set to 0.0 in labels with no predicted samples. Use `zero_division` parameter to control this behavior.\n",
      "  _warn_prf(average, modifier, msg_start, len(result))\n",
      "C:\\Projects\\SFU\\TVO\\pr4\\venv\\lib\\site-packages\\sklearn\\metrics\\_classification.py:1471: UndefinedMetricWarning: Precision and F-score are ill-defined and being set to 0.0 in labels with no predicted samples. Use `zero_division` parameter to control this behavior.\n",
      "  _warn_prf(average, modifier, msg_start, len(result))\n"
     ]
    },
    {
     "name": "stdout",
     "output_type": "stream",
     "text": [
      "              precision    recall  f1-score   support\n",
      "\n",
      "          -1       0.00      0.00      0.00        73\n",
      "          -2       0.00      0.00      0.00         7\n",
      "           0       0.52      0.98      0.68       104\n",
      "           1       0.00      0.00      0.00        15\n",
      "           2       0.00      0.00      0.00         1\n",
      "\n",
      "    accuracy                           0.51       200\n",
      "   macro avg       0.10      0.20      0.14       200\n",
      "weighted avg       0.27      0.51      0.35       200\n",
      "\n",
      "Training Accuracy: 0.7825\n",
      "Validation Accuracy: 0.51\n",
      "Training f1_score: 0.7420895877357829\n",
      "Validation f1_score: 0.35242524916943524\n",
      "Наивный байесовский классификатор W2V:\n",
      "\n",
      "              precision    recall  f1-score   support\n",
      "\n",
      "          -1       0.38      0.32      0.34        73\n",
      "          -2       0.00      0.00      0.00         7\n",
      "           0       0.53      0.70      0.60       104\n",
      "           1       0.00      0.00      0.00        15\n",
      "           2       0.00      0.00      0.00         1\n",
      "\n",
      "    accuracy                           0.48       200\n",
      "   macro avg       0.18      0.20      0.19       200\n",
      "weighted avg       0.41      0.48      0.44       200\n",
      "\n",
      "Training Accuracy: 0.99625\n",
      "Validation Accuracy: 0.48\n",
      "Training f1_score: 0.9962615664529235\n",
      "Validation f1_score: 0.4377264910017811\n"
     ]
    },
    {
     "name": "stderr",
     "output_type": "stream",
     "text": [
      "C:\\Projects\\SFU\\TVO\\pr4\\venv\\lib\\site-packages\\sklearn\\metrics\\_classification.py:1471: UndefinedMetricWarning: Precision and F-score are ill-defined and being set to 0.0 in labels with no predicted samples. Use `zero_division` parameter to control this behavior.\n",
      "  _warn_prf(average, modifier, msg_start, len(result))\n",
      "C:\\Projects\\SFU\\TVO\\pr4\\venv\\lib\\site-packages\\sklearn\\metrics\\_classification.py:1471: UndefinedMetricWarning: Precision and F-score are ill-defined and being set to 0.0 in labels with no predicted samples. Use `zero_division` parameter to control this behavior.\n",
      "  _warn_prf(average, modifier, msg_start, len(result))\n",
      "C:\\Projects\\SFU\\TVO\\pr4\\venv\\lib\\site-packages\\sklearn\\metrics\\_classification.py:1471: UndefinedMetricWarning: Precision and F-score are ill-defined and being set to 0.0 in labels with no predicted samples. Use `zero_division` parameter to control this behavior.\n",
      "  _warn_prf(average, modifier, msg_start, len(result))\n"
     ]
    }
   ],
   "source": [
    "# Наивный байесовский классификатор\n",
    "nb = MultinomialNB()\n",
    "nb.fit(X_train_bow, y_train)\n",
    "print(\"Наивный байесовский классификатор Мешок:\\n\")\n",
    "stats(nb, X_train_bow, X_test_bow)\n",
    "\n",
    "nb.fit(X_train_tfidf, y_train)\n",
    "print(\"Наивный байесовский классификатор TF-IDF:\\n\")\n",
    "stats(nb, X_train_tfidf, X_test_tfidf)\n",
    "nb = GaussianNB()\n",
    "nb.fit(X_train_tfidf, y_train)\n",
    "print(\"Наивный байесовский классификатор W2V:\\n\")\n",
    "stats(nb, X_train_tfidf, X_test_tfidf)"
   ],
   "metadata": {
    "collapsed": false
   }
  },
  {
   "cell_type": "code",
   "execution_count": 19,
   "outputs": [
    {
     "name": "stdout",
     "output_type": "stream",
     "text": [
      "SVM Мешок:\n",
      "\n"
     ]
    },
    {
     "name": "stderr",
     "output_type": "stream",
     "text": [
      "C:\\Projects\\SFU\\TVO\\pr4\\venv\\lib\\site-packages\\sklearn\\metrics\\_classification.py:1471: UndefinedMetricWarning: Precision and F-score are ill-defined and being set to 0.0 in labels with no predicted samples. Use `zero_division` parameter to control this behavior.\n",
      "  _warn_prf(average, modifier, msg_start, len(result))\n",
      "C:\\Projects\\SFU\\TVO\\pr4\\venv\\lib\\site-packages\\sklearn\\metrics\\_classification.py:1471: UndefinedMetricWarning: Precision and F-score are ill-defined and being set to 0.0 in labels with no predicted samples. Use `zero_division` parameter to control this behavior.\n",
      "  _warn_prf(average, modifier, msg_start, len(result))\n",
      "C:\\Projects\\SFU\\TVO\\pr4\\venv\\lib\\site-packages\\sklearn\\metrics\\_classification.py:1471: UndefinedMetricWarning: Precision and F-score are ill-defined and being set to 0.0 in labels with no predicted samples. Use `zero_division` parameter to control this behavior.\n",
      "  _warn_prf(average, modifier, msg_start, len(result))\n"
     ]
    },
    {
     "name": "stdout",
     "output_type": "stream",
     "text": [
      "              precision    recall  f1-score   support\n",
      "\n",
      "          -1       0.20      0.03      0.05        73\n",
      "          -2       0.00      0.00      0.00         7\n",
      "           0       0.52      0.95      0.67       104\n",
      "           1       0.00      0.00      0.00        15\n",
      "           2       0.00      0.00      0.00         1\n",
      "\n",
      "    accuracy                           0.51       200\n",
      "   macro avg       0.14      0.20      0.14       200\n",
      "weighted avg       0.34      0.51      0.37       200\n",
      "\n",
      "Training Accuracy: 0.80625\n",
      "Validation Accuracy: 0.505\n",
      "Training f1_score: 0.7842740429505136\n",
      "Validation f1_score: 0.3677944430784361\n",
      "SVM TF-IDF:\n",
      "\n",
      "              precision    recall  f1-score   support\n",
      "\n",
      "          -1       0.14      0.01      0.03        73\n",
      "          -2       0.00      0.00      0.00         7\n",
      "           0       0.52      0.97      0.68       104\n",
      "           1       0.00      0.00      0.00        15\n",
      "           2       0.00      0.00      0.00         1\n",
      "\n",
      "    accuracy                           0.51       200\n",
      "   macro avg       0.13      0.20      0.14       200\n",
      "weighted avg       0.32      0.51      0.36       200\n",
      "\n",
      "Training Accuracy: 0.91\n",
      "Validation Accuracy: 0.51\n",
      "Training f1_score: 0.8806468264326324\n",
      "Validation f1_score: 0.36279503367003374\n",
      "SVM W2V:\n",
      "\n",
      "              precision    recall  f1-score   support\n",
      "\n",
      "          -1       0.00      0.00      0.00        73\n",
      "          -2       0.00      0.00      0.00         7\n",
      "           0       0.52      1.00      0.68       104\n",
      "           1       0.00      0.00      0.00        15\n",
      "           2       0.00      0.00      0.00         1\n",
      "\n",
      "    accuracy                           0.52       200\n",
      "   macro avg       0.10      0.20      0.14       200\n",
      "weighted avg       0.27      0.52      0.36       200\n",
      "\n",
      "Training Accuracy: 0.535\n",
      "Validation Accuracy: 0.52\n",
      "Training f1_score: 0.37293159609120524\n",
      "Validation f1_score: 0.35578947368421054\n"
     ]
    },
    {
     "name": "stderr",
     "output_type": "stream",
     "text": [
      "C:\\Projects\\SFU\\TVO\\pr4\\venv\\lib\\site-packages\\sklearn\\metrics\\_classification.py:1471: UndefinedMetricWarning: Precision and F-score are ill-defined and being set to 0.0 in labels with no predicted samples. Use `zero_division` parameter to control this behavior.\n",
      "  _warn_prf(average, modifier, msg_start, len(result))\n",
      "C:\\Projects\\SFU\\TVO\\pr4\\venv\\lib\\site-packages\\sklearn\\metrics\\_classification.py:1471: UndefinedMetricWarning: Precision and F-score are ill-defined and being set to 0.0 in labels with no predicted samples. Use `zero_division` parameter to control this behavior.\n",
      "  _warn_prf(average, modifier, msg_start, len(result))\n",
      "C:\\Projects\\SFU\\TVO\\pr4\\venv\\lib\\site-packages\\sklearn\\metrics\\_classification.py:1471: UndefinedMetricWarning: Precision and F-score are ill-defined and being set to 0.0 in labels with no predicted samples. Use `zero_division` parameter to control this behavior.\n",
      "  _warn_prf(average, modifier, msg_start, len(result))\n",
      "C:\\Projects\\SFU\\TVO\\pr4\\venv\\lib\\site-packages\\sklearn\\metrics\\_classification.py:1471: UndefinedMetricWarning: Precision and F-score are ill-defined and being set to 0.0 in labels with no predicted samples. Use `zero_division` parameter to control this behavior.\n",
      "  _warn_prf(average, modifier, msg_start, len(result))\n",
      "C:\\Projects\\SFU\\TVO\\pr4\\venv\\lib\\site-packages\\sklearn\\metrics\\_classification.py:1471: UndefinedMetricWarning: Precision and F-score are ill-defined and being set to 0.0 in labels with no predicted samples. Use `zero_division` parameter to control this behavior.\n",
      "  _warn_prf(average, modifier, msg_start, len(result))\n",
      "C:\\Projects\\SFU\\TVO\\pr4\\venv\\lib\\site-packages\\sklearn\\metrics\\_classification.py:1471: UndefinedMetricWarning: Precision and F-score are ill-defined and being set to 0.0 in labels with no predicted samples. Use `zero_division` parameter to control this behavior.\n",
      "  _warn_prf(average, modifier, msg_start, len(result))\n"
     ]
    }
   ],
   "source": [
    "# SVM\n",
    "svm = SVC()\n",
    "svm.fit(X_train_bow, y_train)\n",
    "print(\"SVM Мешок:\\n\")\n",
    "stats(svm, X_train_bow, X_test_bow)\n",
    "\n",
    "svm = SVC()\n",
    "svm.fit(X_train_tfidf, y_train)\n",
    "print(\"SVM TF-IDF:\\n\")\n",
    "stats(svm, X_train_tfidf, X_test_tfidf)\n",
    "\n",
    "svm = SVC(kernel='linear')\n",
    "svm.fit(X_train_w2v, y_train)\n",
    "print(\"SVM W2V:\\n\")\n",
    "stats(svm, X_train_w2v, X_test_w2v)"
   ],
   "metadata": {
    "collapsed": false
   }
  },
  {
   "cell_type": "code",
   "execution_count": 20,
   "outputs": [
    {
     "name": "stdout",
     "output_type": "stream",
     "text": [
      "Деревья решений мешок:\n",
      "\n"
     ]
    },
    {
     "name": "stderr",
     "output_type": "stream",
     "text": [
      "C:\\Projects\\SFU\\TVO\\pr4\\venv\\lib\\site-packages\\sklearn\\metrics\\_classification.py:1471: UndefinedMetricWarning: Precision and F-score are ill-defined and being set to 0.0 in labels with no predicted samples. Use `zero_division` parameter to control this behavior.\n",
      "  _warn_prf(average, modifier, msg_start, len(result))\n",
      "C:\\Projects\\SFU\\TVO\\pr4\\venv\\lib\\site-packages\\sklearn\\metrics\\_classification.py:1471: UndefinedMetricWarning: Precision and F-score are ill-defined and being set to 0.0 in labels with no predicted samples. Use `zero_division` parameter to control this behavior.\n",
      "  _warn_prf(average, modifier, msg_start, len(result))\n",
      "C:\\Projects\\SFU\\TVO\\pr4\\venv\\lib\\site-packages\\sklearn\\metrics\\_classification.py:1471: UndefinedMetricWarning: Precision and F-score are ill-defined and being set to 0.0 in labels with no predicted samples. Use `zero_division` parameter to control this behavior.\n",
      "  _warn_prf(average, modifier, msg_start, len(result))\n"
     ]
    },
    {
     "name": "stdout",
     "output_type": "stream",
     "text": [
      "              precision    recall  f1-score   support\n",
      "\n",
      "          -1       0.36      0.34      0.35        73\n",
      "          -2       0.00      0.00      0.00         7\n",
      "           0       0.56      0.67      0.61       104\n",
      "           1       0.00      0.00      0.00        15\n",
      "           2       0.00      0.00      0.00         1\n",
      "\n",
      "    accuracy                           0.48       200\n",
      "   macro avg       0.18      0.20      0.19       200\n",
      "weighted avg       0.42      0.47      0.45       200\n",
      "\n",
      "Training Accuracy: 0.9975\n",
      "Validation Accuracy: 0.475\n",
      "Training f1_score: 0.9975012392661984\n",
      "Validation f1_score: 0.4455263077533819\n",
      "Деревья решений TF_IDF:\n",
      "\n",
      "              precision    recall  f1-score   support\n",
      "\n",
      "          -1       0.44      0.52      0.48        73\n",
      "          -2       0.00      0.00      0.00         7\n",
      "           0       0.62      0.60      0.61       104\n",
      "           1       0.11      0.07      0.08        15\n",
      "           2       0.00      0.00      0.00         1\n",
      "\n",
      "    accuracy                           0.51       200\n",
      "   macro avg       0.23      0.24      0.23       200\n",
      "weighted avg       0.49      0.51      0.50       200\n",
      "\n",
      "Training Accuracy: 0.9975\n",
      "Validation Accuracy: 0.505\n",
      "Training f1_score: 0.9975012392661984\n",
      "Validation f1_score: 0.4957034313725491\n",
      "Деревья решений W2V:\n",
      "\n",
      "              precision    recall  f1-score   support\n",
      "\n",
      "          -1       0.41      0.38      0.40        73\n",
      "          -2       0.00      0.00      0.00         7\n",
      "           0       0.55      0.60      0.57       104\n",
      "           1       0.00      0.00      0.00        15\n",
      "           2       0.00      0.00      0.00         1\n",
      "\n",
      "    accuracy                           0.45       200\n",
      "   macro avg       0.19      0.20      0.19       200\n",
      "weighted avg       0.44      0.45      0.44       200\n",
      "\n",
      "Training Accuracy: 0.9975\n",
      "Validation Accuracy: 0.45\n",
      "Training f1_score: 0.9975012392661984\n",
      "Validation f1_score: 0.44210739614994937\n"
     ]
    },
    {
     "name": "stderr",
     "output_type": "stream",
     "text": [
      "C:\\Projects\\SFU\\TVO\\pr4\\venv\\lib\\site-packages\\sklearn\\metrics\\_classification.py:1471: UndefinedMetricWarning: Precision and F-score are ill-defined and being set to 0.0 in labels with no predicted samples. Use `zero_division` parameter to control this behavior.\n",
      "  _warn_prf(average, modifier, msg_start, len(result))\n",
      "C:\\Projects\\SFU\\TVO\\pr4\\venv\\lib\\site-packages\\sklearn\\metrics\\_classification.py:1471: UndefinedMetricWarning: Precision and F-score are ill-defined and being set to 0.0 in labels with no predicted samples. Use `zero_division` parameter to control this behavior.\n",
      "  _warn_prf(average, modifier, msg_start, len(result))\n",
      "C:\\Projects\\SFU\\TVO\\pr4\\venv\\lib\\site-packages\\sklearn\\metrics\\_classification.py:1471: UndefinedMetricWarning: Precision and F-score are ill-defined and being set to 0.0 in labels with no predicted samples. Use `zero_division` parameter to control this behavior.\n",
      "  _warn_prf(average, modifier, msg_start, len(result))\n"
     ]
    }
   ],
   "source": [
    "# Деревья решений\n",
    "dt = DecisionTreeClassifier()\n",
    "dt.fit(X_train_bow, y_train)\n",
    "print(\"Деревья решений мешок:\\n\")\n",
    "stats(dt, X_train_bow, X_test_bow)\n",
    "\n",
    "dt = DecisionTreeClassifier()\n",
    "dt.fit(X_train_tfidf, y_train)\n",
    "print(\"Деревья решений TF_IDF:\\n\")\n",
    "stats(dt, X_train_tfidf, X_test_tfidf)\n",
    "\n",
    "dt = DecisionTreeClassifier()\n",
    "dt.fit(X_train_w2v, y_train)\n",
    "print(\"Деревья решений W2V:\\n\")\n",
    "stats(dt, X_train_w2v, X_test_w2v)"
   ],
   "metadata": {
    "collapsed": false
   }
  },
  {
   "cell_type": "code",
   "execution_count": 21,
   "outputs": [
    {
     "name": "stdout",
     "output_type": "stream",
     "text": [
      "Ансамбли мешок:\n",
      "\n"
     ]
    },
    {
     "name": "stderr",
     "output_type": "stream",
     "text": [
      "C:\\Projects\\SFU\\TVO\\pr4\\venv\\lib\\site-packages\\sklearn\\metrics\\_classification.py:1471: UndefinedMetricWarning: Precision and F-score are ill-defined and being set to 0.0 in labels with no predicted samples. Use `zero_division` parameter to control this behavior.\n",
      "  _warn_prf(average, modifier, msg_start, len(result))\n",
      "C:\\Projects\\SFU\\TVO\\pr4\\venv\\lib\\site-packages\\sklearn\\metrics\\_classification.py:1471: UndefinedMetricWarning: Precision and F-score are ill-defined and being set to 0.0 in labels with no predicted samples. Use `zero_division` parameter to control this behavior.\n",
      "  _warn_prf(average, modifier, msg_start, len(result))\n",
      "C:\\Projects\\SFU\\TVO\\pr4\\venv\\lib\\site-packages\\sklearn\\metrics\\_classification.py:1471: UndefinedMetricWarning: Precision and F-score are ill-defined and being set to 0.0 in labels with no predicted samples. Use `zero_division` parameter to control this behavior.\n",
      "  _warn_prf(average, modifier, msg_start, len(result))\n"
     ]
    },
    {
     "name": "stdout",
     "output_type": "stream",
     "text": [
      "              precision    recall  f1-score   support\n",
      "\n",
      "          -1       0.32      0.12      0.18        73\n",
      "          -2       0.00      0.00      0.00         7\n",
      "           0       0.52      0.86      0.64       104\n",
      "           1       0.00      0.00      0.00        15\n",
      "           2       0.00      0.00      0.00         1\n",
      "\n",
      "    accuracy                           0.49       200\n",
      "   macro avg       0.17      0.20      0.16       200\n",
      "weighted avg       0.39      0.49      0.40       200\n",
      "\n",
      "Training Accuracy: 0.9975\n",
      "Validation Accuracy: 0.49\n",
      "Training f1_score: 0.9975012392661984\n",
      "Validation f1_score: 0.40041182379107476\n",
      "Ансамбли TF-IDF:\n",
      "\n"
     ]
    },
    {
     "name": "stderr",
     "output_type": "stream",
     "text": [
      "C:\\Projects\\SFU\\TVO\\pr4\\venv\\lib\\site-packages\\sklearn\\metrics\\_classification.py:1471: UndefinedMetricWarning: Precision and F-score are ill-defined and being set to 0.0 in labels with no predicted samples. Use `zero_division` parameter to control this behavior.\n",
      "  _warn_prf(average, modifier, msg_start, len(result))\n",
      "C:\\Projects\\SFU\\TVO\\pr4\\venv\\lib\\site-packages\\sklearn\\metrics\\_classification.py:1471: UndefinedMetricWarning: Precision and F-score are ill-defined and being set to 0.0 in labels with no predicted samples. Use `zero_division` parameter to control this behavior.\n",
      "  _warn_prf(average, modifier, msg_start, len(result))\n",
      "C:\\Projects\\SFU\\TVO\\pr4\\venv\\lib\\site-packages\\sklearn\\metrics\\_classification.py:1471: UndefinedMetricWarning: Precision and F-score are ill-defined and being set to 0.0 in labels with no predicted samples. Use `zero_division` parameter to control this behavior.\n",
      "  _warn_prf(average, modifier, msg_start, len(result))\n"
     ]
    },
    {
     "name": "stdout",
     "output_type": "stream",
     "text": [
      "              precision    recall  f1-score   support\n",
      "\n",
      "          -1       0.40      0.16      0.23        73\n",
      "          -2       0.00      0.00      0.00         7\n",
      "           0       0.54      0.88      0.66       104\n",
      "           1       0.00      0.00      0.00        15\n",
      "           2       0.00      0.00      0.00         1\n",
      "\n",
      "    accuracy                           0.52       200\n",
      "   macro avg       0.19      0.21      0.18       200\n",
      "weighted avg       0.42      0.52      0.43       200\n",
      "\n",
      "Training Accuracy: 0.9975\n",
      "Validation Accuracy: 0.515\n",
      "Training f1_score: 0.9975\n",
      "Validation f1_score: 0.430450003543335\n",
      "Ансамбли W2V:\n",
      "\n",
      "              precision    recall  f1-score   support\n",
      "\n",
      "          -1       0.35      0.30      0.33        73\n",
      "          -2       0.00      0.00      0.00         7\n",
      "           0       0.52      0.69      0.60       104\n",
      "           1       0.00      0.00      0.00        15\n",
      "           2       0.00      0.00      0.00         1\n",
      "\n",
      "    accuracy                           0.47       200\n",
      "   macro avg       0.18      0.20      0.18       200\n",
      "weighted avg       0.40      0.47      0.43       200\n",
      "\n",
      "Training Accuracy: 0.9975\n",
      "Validation Accuracy: 0.47\n",
      "Training f1_score: 0.9975\n",
      "Validation f1_score: 0.4283844505662687\n"
     ]
    },
    {
     "name": "stderr",
     "output_type": "stream",
     "text": [
      "C:\\Projects\\SFU\\TVO\\pr4\\venv\\lib\\site-packages\\sklearn\\metrics\\_classification.py:1471: UndefinedMetricWarning: Precision and F-score are ill-defined and being set to 0.0 in labels with no predicted samples. Use `zero_division` parameter to control this behavior.\n",
      "  _warn_prf(average, modifier, msg_start, len(result))\n",
      "C:\\Projects\\SFU\\TVO\\pr4\\venv\\lib\\site-packages\\sklearn\\metrics\\_classification.py:1471: UndefinedMetricWarning: Precision and F-score are ill-defined and being set to 0.0 in labels with no predicted samples. Use `zero_division` parameter to control this behavior.\n",
      "  _warn_prf(average, modifier, msg_start, len(result))\n",
      "C:\\Projects\\SFU\\TVO\\pr4\\venv\\lib\\site-packages\\sklearn\\metrics\\_classification.py:1471: UndefinedMetricWarning: Precision and F-score are ill-defined and being set to 0.0 in labels with no predicted samples. Use `zero_division` parameter to control this behavior.\n",
      "  _warn_prf(average, modifier, msg_start, len(result))\n"
     ]
    }
   ],
   "source": [
    "# Ансамбли\n",
    "rf = RandomForestClassifier()\n",
    "rf.fit(X_train_bow, y_train)\n",
    "print(\"Ансамбли мешок:\\n\")\n",
    "stats(rf, X_train_bow, X_test_bow)\n",
    "\n",
    "rf = RandomForestClassifier()\n",
    "rf.fit(X_train_tfidf, y_train)\n",
    "print(\"Ансамбли TF-IDF:\\n\")\n",
    "stats(rf, X_train_tfidf, X_test_tfidf)\n",
    "\n",
    "rf = RandomForestClassifier()\n",
    "rf.fit(X_train_w2v, y_train)\n",
    "print(\"Ансамбли W2V:\\n\")\n",
    "stats(rf, X_train_w2v, X_test_w2v)"
   ],
   "metadata": {
    "collapsed": false
   }
  },
  {
   "cell_type": "code",
   "execution_count": 22,
   "outputs": [
    {
     "data": {
      "text/plain": "            Words                mean         dispersion  average rate  \\\n0     аборигенный               -0,25  0,433012701892219             0   \n1           аборт                  -1  0,816496580927726            -1   \n2       абрамович                   0                  0             0   \n3      абсолютный   0,333333333333333  0,471404520791032             0   \n4     абстрактный  -0,111111111111111   0,87488976377909             0   \n...           ...                 ...                ...           ...   \n7540         ярый  -0,333333333333333  0,942809041582063             0   \n7541         ясно                   0                  0             0   \n7542      ясность   0,666666666666667  0,471404520791032             1   \n7543        ясный   0,666666666666667  0,471404520791032             1   \n7544       ячейка                   0                  0             0   \n\n      Unnamed: 4  \n0            NaN  \n1            NaN  \n2            NaN  \n3            NaN  \n4            NaN  \n...          ...  \n7540         NaN  \n7541         NaN  \n7542         NaN  \n7543         NaN  \n7544         NaN  \n\n[7545 rows x 5 columns]",
      "text/html": "<div>\n<style scoped>\n    .dataframe tbody tr th:only-of-type {\n        vertical-align: middle;\n    }\n\n    .dataframe tbody tr th {\n        vertical-align: top;\n    }\n\n    .dataframe thead th {\n        text-align: right;\n    }\n</style>\n<table border=\"1\" class=\"dataframe\">\n  <thead>\n    <tr style=\"text-align: right;\">\n      <th></th>\n      <th>Words</th>\n      <th>mean</th>\n      <th>dispersion</th>\n      <th>average rate</th>\n      <th>Unnamed: 4</th>\n    </tr>\n  </thead>\n  <tbody>\n    <tr>\n      <th>0</th>\n      <td>аборигенный</td>\n      <td>-0,25</td>\n      <td>0,433012701892219</td>\n      <td>0</td>\n      <td>NaN</td>\n    </tr>\n    <tr>\n      <th>1</th>\n      <td>аборт</td>\n      <td>-1</td>\n      <td>0,816496580927726</td>\n      <td>-1</td>\n      <td>NaN</td>\n    </tr>\n    <tr>\n      <th>2</th>\n      <td>абрамович</td>\n      <td>0</td>\n      <td>0</td>\n      <td>0</td>\n      <td>NaN</td>\n    </tr>\n    <tr>\n      <th>3</th>\n      <td>абсолютный</td>\n      <td>0,333333333333333</td>\n      <td>0,471404520791032</td>\n      <td>0</td>\n      <td>NaN</td>\n    </tr>\n    <tr>\n      <th>4</th>\n      <td>абстрактный</td>\n      <td>-0,111111111111111</td>\n      <td>0,87488976377909</td>\n      <td>0</td>\n      <td>NaN</td>\n    </tr>\n    <tr>\n      <th>...</th>\n      <td>...</td>\n      <td>...</td>\n      <td>...</td>\n      <td>...</td>\n      <td>...</td>\n    </tr>\n    <tr>\n      <th>7540</th>\n      <td>ярый</td>\n      <td>-0,333333333333333</td>\n      <td>0,942809041582063</td>\n      <td>0</td>\n      <td>NaN</td>\n    </tr>\n    <tr>\n      <th>7541</th>\n      <td>ясно</td>\n      <td>0</td>\n      <td>0</td>\n      <td>0</td>\n      <td>NaN</td>\n    </tr>\n    <tr>\n      <th>7542</th>\n      <td>ясность</td>\n      <td>0,666666666666667</td>\n      <td>0,471404520791032</td>\n      <td>1</td>\n      <td>NaN</td>\n    </tr>\n    <tr>\n      <th>7543</th>\n      <td>ясный</td>\n      <td>0,666666666666667</td>\n      <td>0,471404520791032</td>\n      <td>1</td>\n      <td>NaN</td>\n    </tr>\n    <tr>\n      <th>7544</th>\n      <td>ячейка</td>\n      <td>0</td>\n      <td>0</td>\n      <td>0</td>\n      <td>NaN</td>\n    </tr>\n  </tbody>\n</table>\n<p>7545 rows × 5 columns</p>\n</div>"
     },
     "execution_count": 22,
     "metadata": {},
     "output_type": "execute_result"
    }
   ],
   "source": [
    "dictionary = pd.read_csv('words_all_full_rating.csv', encoding=\"windows-1251\", delimiter=\";\")\n",
    "dictionary"
   ],
   "metadata": {
    "collapsed": false
   }
  },
  {
   "cell_type": "code",
   "execution_count": 23,
   "outputs": [],
   "source": [
    "def calculate_sentiment_ru(text):\n",
    "    sentiment = 0\n",
    "    count = 0\n",
    "    doc = nlp(text)\n",
    "    for token in doc:\n",
    "        lemma = token.lemma_\n",
    "        if lemma in dictionary[\"Words\"]:\n",
    "            sentiment += dictionary[dictionary[\"Words\"] == lemma][\"mean\"]\n",
    "            count+=1\n",
    "    if count == 0:\n",
    "        return 0\n",
    "    return sentiment/count\n",
    "\n",
    "# Применение функции к текстовым данным\n",
    "df_prep['sentiment'] = df_prep['text'].apply(lambda d : calculate_sentiment_ru(d))"
   ],
   "metadata": {
    "collapsed": false
   }
  },
  {
   "cell_type": "code",
   "execution_count": 24,
   "outputs": [
    {
     "data": {
      "text/plain": "                                                text tonality  sentiment\n0  мужчина одна приличный женщина пойти лазить ра...       -1          0\n1  украина это часть русь искусственно отделить к...       -1          0\n2  говорить относительно небольшой коррупция обра...       -1          0\n3  свой поляк сделать русских понятный литовский ...        0          0\n4  фильм зритель любить диковинный соседка пятый ...        0          0",
      "text/html": "<div>\n<style scoped>\n    .dataframe tbody tr th:only-of-type {\n        vertical-align: middle;\n    }\n\n    .dataframe tbody tr th {\n        vertical-align: top;\n    }\n\n    .dataframe thead th {\n        text-align: right;\n    }\n</style>\n<table border=\"1\" class=\"dataframe\">\n  <thead>\n    <tr style=\"text-align: right;\">\n      <th></th>\n      <th>text</th>\n      <th>tonality</th>\n      <th>sentiment</th>\n    </tr>\n  </thead>\n  <tbody>\n    <tr>\n      <th>0</th>\n      <td>мужчина одна приличный женщина пойти лазить ра...</td>\n      <td>-1</td>\n      <td>0</td>\n    </tr>\n    <tr>\n      <th>1</th>\n      <td>украина это часть русь искусственно отделить к...</td>\n      <td>-1</td>\n      <td>0</td>\n    </tr>\n    <tr>\n      <th>2</th>\n      <td>говорить относительно небольшой коррупция обра...</td>\n      <td>-1</td>\n      <td>0</td>\n    </tr>\n    <tr>\n      <th>3</th>\n      <td>свой поляк сделать русских понятный литовский ...</td>\n      <td>0</td>\n      <td>0</td>\n    </tr>\n    <tr>\n      <th>4</th>\n      <td>фильм зритель любить диковинный соседка пятый ...</td>\n      <td>0</td>\n      <td>0</td>\n    </tr>\n  </tbody>\n</table>\n</div>"
     },
     "execution_count": 24,
     "metadata": {},
     "output_type": "execute_result"
    }
   ],
   "source": [
    "df_prep.head()"
   ],
   "metadata": {
    "collapsed": false
   }
  },
  {
   "cell_type": "code",
   "execution_count": 25,
   "outputs": [],
   "source": [
    "# Функция для масштабирования значений тональности\n",
    "def scale_sentiment(sentiment):\n",
    "    return np.interp(sentiment, (-1, 1), (-2, 2))\n",
    "\n",
    "# Масштабирование значений тональности\n",
    "df_prep['scaled_sentiment'] = df_prep['sentiment'].apply(scale_sentiment)\n",
    "\n",
    "# Функция для преобразования значений тональности в классы\n",
    "def sentiment_to_class(sentiment):\n",
    "    if sentiment <= -1.5:\n",
    "        return \"-2\"\n",
    "    elif sentiment <= -0.5:\n",
    "        return \"-1\"\n",
    "    elif sentiment <= 0.5:\n",
    "        return \"0\"\n",
    "    elif sentiment <= 1.5:\n",
    "        return \"1\"\n",
    "    else:\n",
    "        return \"2\"\n",
    "\n",
    "df_prep['final_sentiment'] = df_prep['scaled_sentiment'].apply(sentiment_to_class)"
   ],
   "metadata": {
    "collapsed": false
   }
  },
  {
   "cell_type": "code",
   "execution_count": 29,
   "outputs": [
    {
     "name": "stdout",
     "output_type": "stream",
     "text": [
      "Accuracy: 0.532\n",
      "f1_score: 0.36948302872062666\n"
     ]
    }
   ],
   "source": [
    "import numpy as np\n",
    "\n",
    "\n",
    "true_sentiment = df_prep['tonality']\n",
    "predicted_sentiment = df_prep['final_sentiment']\n",
    "\n",
    "# Вычисление точности\n",
    "accuracy = accuracy_score(true_sentiment, predicted_sentiment)\n",
    "print(f\"Accuracy: {accuracy}\")\n",
    "from sklearn.metrics import f1_score, accuracy_score\n",
    "f1_score = f1_score(true_sentiment, predicted_sentiment, average='weighted')\n",
    "print(f\"f1_score: {f1_score}\")"
   ],
   "metadata": {
    "collapsed": false
   }
  },
  {
   "cell_type": "code",
   "execution_count": 27,
   "outputs": [
    {
     "data": {
      "text/plain": "                                                text tonality  sentiment  \\\n0  мужчина одна приличный женщина пойти лазить ра...       -1          0   \n1  украина это часть русь искусственно отделить к...       -1          0   \n2  говорить относительно небольшой коррупция обра...       -1          0   \n3  свой поляк сделать русских понятный литовский ...        0          0   \n4  фильм зритель любить диковинный соседка пятый ...        0          0   \n\n   scaled_sentiment final_sentiment  \n0               0.0               0  \n1               0.0               0  \n2               0.0               0  \n3               0.0               0  \n4               0.0               0  ",
      "text/html": "<div>\n<style scoped>\n    .dataframe tbody tr th:only-of-type {\n        vertical-align: middle;\n    }\n\n    .dataframe tbody tr th {\n        vertical-align: top;\n    }\n\n    .dataframe thead th {\n        text-align: right;\n    }\n</style>\n<table border=\"1\" class=\"dataframe\">\n  <thead>\n    <tr style=\"text-align: right;\">\n      <th></th>\n      <th>text</th>\n      <th>tonality</th>\n      <th>sentiment</th>\n      <th>scaled_sentiment</th>\n      <th>final_sentiment</th>\n    </tr>\n  </thead>\n  <tbody>\n    <tr>\n      <th>0</th>\n      <td>мужчина одна приличный женщина пойти лазить ра...</td>\n      <td>-1</td>\n      <td>0</td>\n      <td>0.0</td>\n      <td>0</td>\n    </tr>\n    <tr>\n      <th>1</th>\n      <td>украина это часть русь искусственно отделить к...</td>\n      <td>-1</td>\n      <td>0</td>\n      <td>0.0</td>\n      <td>0</td>\n    </tr>\n    <tr>\n      <th>2</th>\n      <td>говорить относительно небольшой коррупция обра...</td>\n      <td>-1</td>\n      <td>0</td>\n      <td>0.0</td>\n      <td>0</td>\n    </tr>\n    <tr>\n      <th>3</th>\n      <td>свой поляк сделать русских понятный литовский ...</td>\n      <td>0</td>\n      <td>0</td>\n      <td>0.0</td>\n      <td>0</td>\n    </tr>\n    <tr>\n      <th>4</th>\n      <td>фильм зритель любить диковинный соседка пятый ...</td>\n      <td>0</td>\n      <td>0</td>\n      <td>0.0</td>\n      <td>0</td>\n    </tr>\n  </tbody>\n</table>\n</div>"
     },
     "execution_count": 27,
     "metadata": {},
     "output_type": "execute_result"
    }
   ],
   "source": [
    "df_prep.head()"
   ],
   "metadata": {
    "collapsed": false
   }
  }
 ],
 "metadata": {
  "kernelspec": {
   "display_name": "Python 3",
   "language": "python",
   "name": "python3"
  },
  "language_info": {
   "codemirror_mode": {
    "name": "ipython",
    "version": 2
   },
   "file_extension": ".py",
   "mimetype": "text/x-python",
   "name": "python",
   "nbconvert_exporter": "python",
   "pygments_lexer": "ipython2",
   "version": "2.7.6"
  }
 },
 "nbformat": 4,
 "nbformat_minor": 0
}
