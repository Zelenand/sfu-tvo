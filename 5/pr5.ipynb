{
 "cells": [
  {
   "cell_type": "markdown",
   "source": [
    "Лабораторная работа №5\n",
    "Выполнил студент гр. КИ21-17/1б Самарин Никита"
   ],
   "metadata": {
    "collapsed": false
   }
  },
  {
   "cell_type": "markdown",
   "source": [
    "### Задачи:\n",
    "реализовать item-based/user-based подход\n",
    "реализовать модель подсчета рейтинга с использованием кластеризации (количество кластеров обосновать)\n",
    "посчитать рейтинги с помощью матричной факторизации SVD/NMF"
   ],
   "metadata": {
    "collapsed": false
   }
  },
  {
   "cell_type": "code",
   "execution_count": 199,
   "metadata": {
    "collapsed": true
   },
   "outputs": [],
   "source": [
    "import matplotlib.pyplot as plt\n",
    "import numpy as np\n",
    "import random\n",
    "import pandas as pd\n",
    "import seaborn as sns\n",
    "from sklearn.feature_extraction.text import CountVectorizer\n",
    "from sklearn.cluster import KMeans\n",
    "from sklearn.metrics.pairwise import cosine_similarity\n",
    "from sklearn.decomposition import PCA\n",
    "from sklearn import preprocessing\n",
    "from numpy.linalg import svd\n",
    "from collections import Counter\n",
    "import itertools\n",
    "import math"
   ]
  },
  {
   "cell_type": "code",
   "execution_count": 200,
   "outputs": [],
   "source": [
    "movie_genres = pd.read_csv(\"movie_genres.dat\", sep='\\t')\n",
    "user_rated_movies = pd.read_csv(\"user_ratedmovies.dat\", sep='\\t').drop('date_day\tdate_month\tdate_year\tdate_hour\tdate_minute\tdate_second'.split('\\t'), axis=1)"
   ],
   "metadata": {
    "collapsed": false
   }
  },
  {
   "cell_type": "code",
   "execution_count": 3,
   "outputs": [
    {
     "data": {
      "text/plain": "       movieID      genre\n0            1  Adventure\n1            1  Animation\n2            1   Children\n3            1     Comedy\n4            1    Fantasy\n...        ...        ...\n20804    65126     Comedy\n20805    65126      Drama\n20806    65130      Drama\n20807    65130    Romance\n20808    65133     Comedy\n\n[20809 rows x 2 columns]",
      "text/html": "<div>\n<style scoped>\n    .dataframe tbody tr th:only-of-type {\n        vertical-align: middle;\n    }\n\n    .dataframe tbody tr th {\n        vertical-align: top;\n    }\n\n    .dataframe thead th {\n        text-align: right;\n    }\n</style>\n<table border=\"1\" class=\"dataframe\">\n  <thead>\n    <tr style=\"text-align: right;\">\n      <th></th>\n      <th>movieID</th>\n      <th>genre</th>\n    </tr>\n  </thead>\n  <tbody>\n    <tr>\n      <th>0</th>\n      <td>1</td>\n      <td>Adventure</td>\n    </tr>\n    <tr>\n      <th>1</th>\n      <td>1</td>\n      <td>Animation</td>\n    </tr>\n    <tr>\n      <th>2</th>\n      <td>1</td>\n      <td>Children</td>\n    </tr>\n    <tr>\n      <th>3</th>\n      <td>1</td>\n      <td>Comedy</td>\n    </tr>\n    <tr>\n      <th>4</th>\n      <td>1</td>\n      <td>Fantasy</td>\n    </tr>\n    <tr>\n      <th>...</th>\n      <td>...</td>\n      <td>...</td>\n    </tr>\n    <tr>\n      <th>20804</th>\n      <td>65126</td>\n      <td>Comedy</td>\n    </tr>\n    <tr>\n      <th>20805</th>\n      <td>65126</td>\n      <td>Drama</td>\n    </tr>\n    <tr>\n      <th>20806</th>\n      <td>65130</td>\n      <td>Drama</td>\n    </tr>\n    <tr>\n      <th>20807</th>\n      <td>65130</td>\n      <td>Romance</td>\n    </tr>\n    <tr>\n      <th>20808</th>\n      <td>65133</td>\n      <td>Comedy</td>\n    </tr>\n  </tbody>\n</table>\n<p>20809 rows × 2 columns</p>\n</div>"
     },
     "execution_count": 3,
     "metadata": {},
     "output_type": "execute_result"
    }
   ],
   "source": [
    "movie_genres"
   ],
   "metadata": {
    "collapsed": false
   }
  },
  {
   "cell_type": "code",
   "execution_count": 4,
   "outputs": [
    {
     "data": {
      "text/plain": "        userID  movieID  rating\n0           75        3     1.0\n1           75       32     4.5\n2           75      110     4.0\n3           75      160     2.0\n4           75      163     4.0\n...        ...      ...     ...\n855593   71534    44555     4.0\n855594   71534    46578     4.0\n855595   71534    48516     4.5\n855596   71534    61075     5.0\n855597   71534    62049     4.5\n\n[855598 rows x 3 columns]",
      "text/html": "<div>\n<style scoped>\n    .dataframe tbody tr th:only-of-type {\n        vertical-align: middle;\n    }\n\n    .dataframe tbody tr th {\n        vertical-align: top;\n    }\n\n    .dataframe thead th {\n        text-align: right;\n    }\n</style>\n<table border=\"1\" class=\"dataframe\">\n  <thead>\n    <tr style=\"text-align: right;\">\n      <th></th>\n      <th>userID</th>\n      <th>movieID</th>\n      <th>rating</th>\n    </tr>\n  </thead>\n  <tbody>\n    <tr>\n      <th>0</th>\n      <td>75</td>\n      <td>3</td>\n      <td>1.0</td>\n    </tr>\n    <tr>\n      <th>1</th>\n      <td>75</td>\n      <td>32</td>\n      <td>4.5</td>\n    </tr>\n    <tr>\n      <th>2</th>\n      <td>75</td>\n      <td>110</td>\n      <td>4.0</td>\n    </tr>\n    <tr>\n      <th>3</th>\n      <td>75</td>\n      <td>160</td>\n      <td>2.0</td>\n    </tr>\n    <tr>\n      <th>4</th>\n      <td>75</td>\n      <td>163</td>\n      <td>4.0</td>\n    </tr>\n    <tr>\n      <th>...</th>\n      <td>...</td>\n      <td>...</td>\n      <td>...</td>\n    </tr>\n    <tr>\n      <th>855593</th>\n      <td>71534</td>\n      <td>44555</td>\n      <td>4.0</td>\n    </tr>\n    <tr>\n      <th>855594</th>\n      <td>71534</td>\n      <td>46578</td>\n      <td>4.0</td>\n    </tr>\n    <tr>\n      <th>855595</th>\n      <td>71534</td>\n      <td>48516</td>\n      <td>4.5</td>\n    </tr>\n    <tr>\n      <th>855596</th>\n      <td>71534</td>\n      <td>61075</td>\n      <td>5.0</td>\n    </tr>\n    <tr>\n      <th>855597</th>\n      <td>71534</td>\n      <td>62049</td>\n      <td>4.5</td>\n    </tr>\n  </tbody>\n</table>\n<p>855598 rows × 3 columns</p>\n</div>"
     },
     "execution_count": 4,
     "metadata": {},
     "output_type": "execute_result"
    }
   ],
   "source": [
    "user_rated_movies"
   ],
   "metadata": {
    "collapsed": false
   }
  },
  {
   "cell_type": "code",
   "execution_count": 5,
   "outputs": [
    {
     "data": {
      "text/plain": "'movies: 10109, users: 2113'"
     },
     "execution_count": 5,
     "metadata": {},
     "output_type": "execute_result"
    }
   ],
   "source": [
    "n_users = len(user_rated_movies.userID.unique())\n",
    "n_movies = len(user_rated_movies.movieID.unique())\n",
    "f'movies: {n_movies}, users: {n_users}'"
   ],
   "metadata": {
    "collapsed": false
   }
  },
  {
   "cell_type": "code",
   "execution_count": 6,
   "outputs": [
    {
     "data": {
      "text/plain": "       3      32     110    160    163    165    173    296    353    420    \\\n75       1.0    4.5    4.0    2.0    4.0    4.5    3.5    5.0    3.5    2.0   \n78       0.0    5.0    3.5    0.0    0.0    0.0    0.0    4.5    0.0    0.0   \n127      0.0    0.0    0.0    0.0    0.0    0.0    0.0    0.0    0.0    0.0   \n170      0.0    4.0    0.0    0.0    0.0    3.0    0.0    4.5    0.0    2.5   \n175      0.0    4.0    5.0    0.0    0.0    0.0    0.0    5.0    0.0    0.0   \n...      ...    ...    ...    ...    ...    ...    ...    ...    ...    ...   \n71497    0.0    0.0    3.5    0.0    0.0    0.0    0.0    0.0    0.0    0.0   \n71509    0.0    3.0    0.0    0.0    0.0    0.0    0.0    4.5    0.0    0.0   \n71525    0.0    0.0    5.0    0.0    0.0    5.0    0.0    0.0    0.0    3.0   \n71529    2.0    0.0    0.0    0.0    0.0    0.0    0.0    0.0    0.0    0.0   \n71534    0.0    4.5    0.0    0.0    0.0    0.0    0.0    4.0    0.0    0.0   \n\n       ...  2666   763    60618  63276  63662  62796  3585   59065  4421   \\\n75     ...    0.0    0.0    0.0    0.0    0.0    0.0    0.0    0.0    0.0   \n78     ...    0.0    0.0    0.0    0.0    0.0    0.0    0.0    0.0    0.0   \n127    ...    0.0    0.0    0.0    0.0    0.0    0.0    0.0    0.0    0.0   \n170    ...    0.0    0.0    0.0    0.0    0.0    0.0    0.0    0.0    0.0   \n175    ...    0.0    0.0    0.0    0.0    0.0    0.0    0.0    0.0    0.0   \n...    ...    ...    ...    ...    ...    ...    ...    ...    ...    ...   \n71497  ...    0.0    0.0    0.0    0.0    0.0    0.0    0.0    0.0    0.0   \n71509  ...    0.0    0.0    0.0    0.0    0.0    0.0    0.0    0.0    0.0   \n71525  ...    0.0    0.0    0.0    0.0    0.0    0.0    0.0    0.0    0.0   \n71529  ...    0.0    0.0    0.0    0.0    0.0    0.0    0.0    0.0    0.0   \n71534  ...    0.0    0.0    0.0    0.0    0.0    0.0    0.0    0.0    0.0   \n\n       8393   \n75       0.0  \n78       0.0  \n127      0.0  \n170      0.0  \n175      0.0  \n...      ...  \n71497    0.0  \n71509    3.0  \n71525    0.0  \n71529    0.0  \n71534    0.0  \n\n[2113 rows x 10109 columns]",
      "text/html": "<div>\n<style scoped>\n    .dataframe tbody tr th:only-of-type {\n        vertical-align: middle;\n    }\n\n    .dataframe tbody tr th {\n        vertical-align: top;\n    }\n\n    .dataframe thead th {\n        text-align: right;\n    }\n</style>\n<table border=\"1\" class=\"dataframe\">\n  <thead>\n    <tr style=\"text-align: right;\">\n      <th></th>\n      <th>3</th>\n      <th>32</th>\n      <th>110</th>\n      <th>160</th>\n      <th>163</th>\n      <th>165</th>\n      <th>173</th>\n      <th>296</th>\n      <th>353</th>\n      <th>420</th>\n      <th>...</th>\n      <th>2666</th>\n      <th>763</th>\n      <th>60618</th>\n      <th>63276</th>\n      <th>63662</th>\n      <th>62796</th>\n      <th>3585</th>\n      <th>59065</th>\n      <th>4421</th>\n      <th>8393</th>\n    </tr>\n  </thead>\n  <tbody>\n    <tr>\n      <th>75</th>\n      <td>1.0</td>\n      <td>4.5</td>\n      <td>4.0</td>\n      <td>2.0</td>\n      <td>4.0</td>\n      <td>4.5</td>\n      <td>3.5</td>\n      <td>5.0</td>\n      <td>3.5</td>\n      <td>2.0</td>\n      <td>...</td>\n      <td>0.0</td>\n      <td>0.0</td>\n      <td>0.0</td>\n      <td>0.0</td>\n      <td>0.0</td>\n      <td>0.0</td>\n      <td>0.0</td>\n      <td>0.0</td>\n      <td>0.0</td>\n      <td>0.0</td>\n    </tr>\n    <tr>\n      <th>78</th>\n      <td>0.0</td>\n      <td>5.0</td>\n      <td>3.5</td>\n      <td>0.0</td>\n      <td>0.0</td>\n      <td>0.0</td>\n      <td>0.0</td>\n      <td>4.5</td>\n      <td>0.0</td>\n      <td>0.0</td>\n      <td>...</td>\n      <td>0.0</td>\n      <td>0.0</td>\n      <td>0.0</td>\n      <td>0.0</td>\n      <td>0.0</td>\n      <td>0.0</td>\n      <td>0.0</td>\n      <td>0.0</td>\n      <td>0.0</td>\n      <td>0.0</td>\n    </tr>\n    <tr>\n      <th>127</th>\n      <td>0.0</td>\n      <td>0.0</td>\n      <td>0.0</td>\n      <td>0.0</td>\n      <td>0.0</td>\n      <td>0.0</td>\n      <td>0.0</td>\n      <td>0.0</td>\n      <td>0.0</td>\n      <td>0.0</td>\n      <td>...</td>\n      <td>0.0</td>\n      <td>0.0</td>\n      <td>0.0</td>\n      <td>0.0</td>\n      <td>0.0</td>\n      <td>0.0</td>\n      <td>0.0</td>\n      <td>0.0</td>\n      <td>0.0</td>\n      <td>0.0</td>\n    </tr>\n    <tr>\n      <th>170</th>\n      <td>0.0</td>\n      <td>4.0</td>\n      <td>0.0</td>\n      <td>0.0</td>\n      <td>0.0</td>\n      <td>3.0</td>\n      <td>0.0</td>\n      <td>4.5</td>\n      <td>0.0</td>\n      <td>2.5</td>\n      <td>...</td>\n      <td>0.0</td>\n      <td>0.0</td>\n      <td>0.0</td>\n      <td>0.0</td>\n      <td>0.0</td>\n      <td>0.0</td>\n      <td>0.0</td>\n      <td>0.0</td>\n      <td>0.0</td>\n      <td>0.0</td>\n    </tr>\n    <tr>\n      <th>175</th>\n      <td>0.0</td>\n      <td>4.0</td>\n      <td>5.0</td>\n      <td>0.0</td>\n      <td>0.0</td>\n      <td>0.0</td>\n      <td>0.0</td>\n      <td>5.0</td>\n      <td>0.0</td>\n      <td>0.0</td>\n      <td>...</td>\n      <td>0.0</td>\n      <td>0.0</td>\n      <td>0.0</td>\n      <td>0.0</td>\n      <td>0.0</td>\n      <td>0.0</td>\n      <td>0.0</td>\n      <td>0.0</td>\n      <td>0.0</td>\n      <td>0.0</td>\n    </tr>\n    <tr>\n      <th>...</th>\n      <td>...</td>\n      <td>...</td>\n      <td>...</td>\n      <td>...</td>\n      <td>...</td>\n      <td>...</td>\n      <td>...</td>\n      <td>...</td>\n      <td>...</td>\n      <td>...</td>\n      <td>...</td>\n      <td>...</td>\n      <td>...</td>\n      <td>...</td>\n      <td>...</td>\n      <td>...</td>\n      <td>...</td>\n      <td>...</td>\n      <td>...</td>\n      <td>...</td>\n      <td>...</td>\n    </tr>\n    <tr>\n      <th>71497</th>\n      <td>0.0</td>\n      <td>0.0</td>\n      <td>3.5</td>\n      <td>0.0</td>\n      <td>0.0</td>\n      <td>0.0</td>\n      <td>0.0</td>\n      <td>0.0</td>\n      <td>0.0</td>\n      <td>0.0</td>\n      <td>...</td>\n      <td>0.0</td>\n      <td>0.0</td>\n      <td>0.0</td>\n      <td>0.0</td>\n      <td>0.0</td>\n      <td>0.0</td>\n      <td>0.0</td>\n      <td>0.0</td>\n      <td>0.0</td>\n      <td>0.0</td>\n    </tr>\n    <tr>\n      <th>71509</th>\n      <td>0.0</td>\n      <td>3.0</td>\n      <td>0.0</td>\n      <td>0.0</td>\n      <td>0.0</td>\n      <td>0.0</td>\n      <td>0.0</td>\n      <td>4.5</td>\n      <td>0.0</td>\n      <td>0.0</td>\n      <td>...</td>\n      <td>0.0</td>\n      <td>0.0</td>\n      <td>0.0</td>\n      <td>0.0</td>\n      <td>0.0</td>\n      <td>0.0</td>\n      <td>0.0</td>\n      <td>0.0</td>\n      <td>0.0</td>\n      <td>3.0</td>\n    </tr>\n    <tr>\n      <th>71525</th>\n      <td>0.0</td>\n      <td>0.0</td>\n      <td>5.0</td>\n      <td>0.0</td>\n      <td>0.0</td>\n      <td>5.0</td>\n      <td>0.0</td>\n      <td>0.0</td>\n      <td>0.0</td>\n      <td>3.0</td>\n      <td>...</td>\n      <td>0.0</td>\n      <td>0.0</td>\n      <td>0.0</td>\n      <td>0.0</td>\n      <td>0.0</td>\n      <td>0.0</td>\n      <td>0.0</td>\n      <td>0.0</td>\n      <td>0.0</td>\n      <td>0.0</td>\n    </tr>\n    <tr>\n      <th>71529</th>\n      <td>2.0</td>\n      <td>0.0</td>\n      <td>0.0</td>\n      <td>0.0</td>\n      <td>0.0</td>\n      <td>0.0</td>\n      <td>0.0</td>\n      <td>0.0</td>\n      <td>0.0</td>\n      <td>0.0</td>\n      <td>...</td>\n      <td>0.0</td>\n      <td>0.0</td>\n      <td>0.0</td>\n      <td>0.0</td>\n      <td>0.0</td>\n      <td>0.0</td>\n      <td>0.0</td>\n      <td>0.0</td>\n      <td>0.0</td>\n      <td>0.0</td>\n    </tr>\n    <tr>\n      <th>71534</th>\n      <td>0.0</td>\n      <td>4.5</td>\n      <td>0.0</td>\n      <td>0.0</td>\n      <td>0.0</td>\n      <td>0.0</td>\n      <td>0.0</td>\n      <td>4.0</td>\n      <td>0.0</td>\n      <td>0.0</td>\n      <td>...</td>\n      <td>0.0</td>\n      <td>0.0</td>\n      <td>0.0</td>\n      <td>0.0</td>\n      <td>0.0</td>\n      <td>0.0</td>\n      <td>0.0</td>\n      <td>0.0</td>\n      <td>0.0</td>\n      <td>0.0</td>\n    </tr>\n  </tbody>\n</table>\n<p>2113 rows × 10109 columns</p>\n</div>"
     },
     "execution_count": 6,
     "metadata": {},
     "output_type": "execute_result"
    }
   ],
   "source": [
    "user2idx = {userID: i for i, userID in enumerate(user_rated_movies.userID.unique())}\n",
    "idx2user = {i: user for user, i in user2idx.items()}\n",
    "\n",
    "movie2idx = {movieID: i for i, movieID in enumerate(user_rated_movies.movieID.unique())}\n",
    "idx2movie = {i: movie for movie, i in movie2idx.items()}\n",
    "\n",
    "user_idx = user_rated_movies['userID'].apply(lambda x: user2idx[x]).values\n",
    "movie_idx = user_rated_movies['movieIDIdx'] = user_rated_movies['movieID'].apply(lambda x: movie2idx[x]).values\n",
    "hours = user_rated_movies['rating'].values\n",
    "\n",
    "zero_matrix = np.zeros(shape=(n_users, n_movies))\n",
    "user_movie_pref = zero_matrix.copy()\n",
    "user_movie_pref[user_idx, movie_idx] = 1\n",
    "\n",
    "user_movie_interactions = zero_matrix.copy()\n",
    "\n",
    "user_movie_interactions[user_idx, movie_idx] = hours\n",
    "\n",
    "user_movie = pd.DataFrame(user_movie_interactions, columns=user_rated_movies['movieID'].unique(), index=user_rated_movies['userID'].unique())\n",
    "user_movie"
   ],
   "metadata": {
    "collapsed": false
   }
  },
  {
   "cell_type": "code",
   "execution_count": 7,
   "outputs": [],
   "source": [
    "user_movie = user_movie.replace(0, np.nan)\n",
    "user_movie = user_movie.sub(user_movie.mean(axis=1), axis=0)\n",
    "user_corr = user_movie.T.corr()\n",
    "movie_corr = user_movie.corr()"
   ],
   "metadata": {
    "collapsed": false
   }
  },
  {
   "cell_type": "code",
   "execution_count": 8,
   "outputs": [
    {
     "data": {
      "text/plain": "        3         32        110       160       163       165       173    \\\n75  -2.463636  1.036364  0.536364 -1.463636  0.536364  1.036364  0.036364   \n78        NaN  0.878205 -0.621795       NaN       NaN       NaN       NaN   \n127       NaN       NaN       NaN       NaN       NaN       NaN       NaN   \n170       NaN  0.933735       NaN       NaN       NaN -0.066265       NaN   \n175       NaN -0.307971  0.692029       NaN       NaN       NaN       NaN   \n\n        296       353       420    ...  2666   763    60618  63276  63662  \\\n75   1.536364  0.036364 -1.463636  ...    NaN    NaN    NaN    NaN    NaN   \n78   0.378205       NaN       NaN  ...    NaN    NaN    NaN    NaN    NaN   \n127       NaN       NaN       NaN  ...    NaN    NaN    NaN    NaN    NaN   \n170  1.433735       NaN -0.566265  ...    NaN    NaN    NaN    NaN    NaN   \n175  0.692029       NaN       NaN  ...    NaN    NaN    NaN    NaN    NaN   \n\n     62796  3585   59065  4421   8393   \n75     NaN    NaN    NaN    NaN    NaN  \n78     NaN    NaN    NaN    NaN    NaN  \n127    NaN    NaN    NaN    NaN    NaN  \n170    NaN    NaN    NaN    NaN    NaN  \n175    NaN    NaN    NaN    NaN    NaN  \n\n[5 rows x 10109 columns]",
      "text/html": "<div>\n<style scoped>\n    .dataframe tbody tr th:only-of-type {\n        vertical-align: middle;\n    }\n\n    .dataframe tbody tr th {\n        vertical-align: top;\n    }\n\n    .dataframe thead th {\n        text-align: right;\n    }\n</style>\n<table border=\"1\" class=\"dataframe\">\n  <thead>\n    <tr style=\"text-align: right;\">\n      <th></th>\n      <th>3</th>\n      <th>32</th>\n      <th>110</th>\n      <th>160</th>\n      <th>163</th>\n      <th>165</th>\n      <th>173</th>\n      <th>296</th>\n      <th>353</th>\n      <th>420</th>\n      <th>...</th>\n      <th>2666</th>\n      <th>763</th>\n      <th>60618</th>\n      <th>63276</th>\n      <th>63662</th>\n      <th>62796</th>\n      <th>3585</th>\n      <th>59065</th>\n      <th>4421</th>\n      <th>8393</th>\n    </tr>\n  </thead>\n  <tbody>\n    <tr>\n      <th>75</th>\n      <td>-2.463636</td>\n      <td>1.036364</td>\n      <td>0.536364</td>\n      <td>-1.463636</td>\n      <td>0.536364</td>\n      <td>1.036364</td>\n      <td>0.036364</td>\n      <td>1.536364</td>\n      <td>0.036364</td>\n      <td>-1.463636</td>\n      <td>...</td>\n      <td>NaN</td>\n      <td>NaN</td>\n      <td>NaN</td>\n      <td>NaN</td>\n      <td>NaN</td>\n      <td>NaN</td>\n      <td>NaN</td>\n      <td>NaN</td>\n      <td>NaN</td>\n      <td>NaN</td>\n    </tr>\n    <tr>\n      <th>78</th>\n      <td>NaN</td>\n      <td>0.878205</td>\n      <td>-0.621795</td>\n      <td>NaN</td>\n      <td>NaN</td>\n      <td>NaN</td>\n      <td>NaN</td>\n      <td>0.378205</td>\n      <td>NaN</td>\n      <td>NaN</td>\n      <td>...</td>\n      <td>NaN</td>\n      <td>NaN</td>\n      <td>NaN</td>\n      <td>NaN</td>\n      <td>NaN</td>\n      <td>NaN</td>\n      <td>NaN</td>\n      <td>NaN</td>\n      <td>NaN</td>\n      <td>NaN</td>\n    </tr>\n    <tr>\n      <th>127</th>\n      <td>NaN</td>\n      <td>NaN</td>\n      <td>NaN</td>\n      <td>NaN</td>\n      <td>NaN</td>\n      <td>NaN</td>\n      <td>NaN</td>\n      <td>NaN</td>\n      <td>NaN</td>\n      <td>NaN</td>\n      <td>...</td>\n      <td>NaN</td>\n      <td>NaN</td>\n      <td>NaN</td>\n      <td>NaN</td>\n      <td>NaN</td>\n      <td>NaN</td>\n      <td>NaN</td>\n      <td>NaN</td>\n      <td>NaN</td>\n      <td>NaN</td>\n    </tr>\n    <tr>\n      <th>170</th>\n      <td>NaN</td>\n      <td>0.933735</td>\n      <td>NaN</td>\n      <td>NaN</td>\n      <td>NaN</td>\n      <td>-0.066265</td>\n      <td>NaN</td>\n      <td>1.433735</td>\n      <td>NaN</td>\n      <td>-0.566265</td>\n      <td>...</td>\n      <td>NaN</td>\n      <td>NaN</td>\n      <td>NaN</td>\n      <td>NaN</td>\n      <td>NaN</td>\n      <td>NaN</td>\n      <td>NaN</td>\n      <td>NaN</td>\n      <td>NaN</td>\n      <td>NaN</td>\n    </tr>\n    <tr>\n      <th>175</th>\n      <td>NaN</td>\n      <td>-0.307971</td>\n      <td>0.692029</td>\n      <td>NaN</td>\n      <td>NaN</td>\n      <td>NaN</td>\n      <td>NaN</td>\n      <td>0.692029</td>\n      <td>NaN</td>\n      <td>NaN</td>\n      <td>...</td>\n      <td>NaN</td>\n      <td>NaN</td>\n      <td>NaN</td>\n      <td>NaN</td>\n      <td>NaN</td>\n      <td>NaN</td>\n      <td>NaN</td>\n      <td>NaN</td>\n      <td>NaN</td>\n      <td>NaN</td>\n    </tr>\n  </tbody>\n</table>\n<p>5 rows × 10109 columns</p>\n</div>"
     },
     "execution_count": 8,
     "metadata": {},
     "output_type": "execute_result"
    }
   ],
   "source": [
    "user_movie.head()"
   ],
   "metadata": {
    "collapsed": false
   }
  },
  {
   "cell_type": "code",
   "execution_count": 9,
   "outputs": [
    {
     "data": {
      "text/plain": "        75        78     127       170       175       190       267    \\\n75   1.000000 -0.088936    NaN  0.570133 -0.112645 -0.364190  0.449004   \n78  -0.088936  1.000000    NaN  0.164055  0.170428  0.153264  0.330864   \n127       NaN       NaN    1.0       NaN  1.000000  1.000000  1.000000   \n170  0.570133  0.164055    NaN  1.000000  0.281336 -0.230146  0.484321   \n175 -0.112645  0.170428    1.0  0.281336  1.000000  0.144357  0.299579   \n\n        325       383       476    ...     71331     71420     71478  \\\n75   0.474772  0.000000  0.474634  ...  0.571210  0.075635  0.124735   \n78  -0.049351  0.310902  0.132254  ...  0.133482 -0.136631 -0.115713   \n127  0.451869       NaN       NaN  ...  0.519875 -0.250087       NaN   \n170  0.149081  0.412722  0.207416  ...  0.540579 -0.099379  0.069702   \n175  0.100223  0.338421  0.270972  ...  0.276035 -0.050248 -0.024595   \n\n        71483     71487     71497     71509     71525     71529     71534  \n75   0.250435  0.068427  0.483859  0.378022  0.297820  0.487154  0.831522  \n78   0.132494  0.154064 -0.050585  0.284553  0.148404 -0.089425  0.419659  \n127       NaN       NaN       NaN       NaN -0.271163       NaN       NaN  \n170 -0.291594 -0.130951  0.207456  0.287347 -0.356262 -0.158425 -0.033531  \n175  0.040960  0.119315  0.207318  0.355128  0.185841  0.090337  0.093465  \n\n[5 rows x 2113 columns]",
      "text/html": "<div>\n<style scoped>\n    .dataframe tbody tr th:only-of-type {\n        vertical-align: middle;\n    }\n\n    .dataframe tbody tr th {\n        vertical-align: top;\n    }\n\n    .dataframe thead th {\n        text-align: right;\n    }\n</style>\n<table border=\"1\" class=\"dataframe\">\n  <thead>\n    <tr style=\"text-align: right;\">\n      <th></th>\n      <th>75</th>\n      <th>78</th>\n      <th>127</th>\n      <th>170</th>\n      <th>175</th>\n      <th>190</th>\n      <th>267</th>\n      <th>325</th>\n      <th>383</th>\n      <th>476</th>\n      <th>...</th>\n      <th>71331</th>\n      <th>71420</th>\n      <th>71478</th>\n      <th>71483</th>\n      <th>71487</th>\n      <th>71497</th>\n      <th>71509</th>\n      <th>71525</th>\n      <th>71529</th>\n      <th>71534</th>\n    </tr>\n  </thead>\n  <tbody>\n    <tr>\n      <th>75</th>\n      <td>1.000000</td>\n      <td>-0.088936</td>\n      <td>NaN</td>\n      <td>0.570133</td>\n      <td>-0.112645</td>\n      <td>-0.364190</td>\n      <td>0.449004</td>\n      <td>0.474772</td>\n      <td>0.000000</td>\n      <td>0.474634</td>\n      <td>...</td>\n      <td>0.571210</td>\n      <td>0.075635</td>\n      <td>0.124735</td>\n      <td>0.250435</td>\n      <td>0.068427</td>\n      <td>0.483859</td>\n      <td>0.378022</td>\n      <td>0.297820</td>\n      <td>0.487154</td>\n      <td>0.831522</td>\n    </tr>\n    <tr>\n      <th>78</th>\n      <td>-0.088936</td>\n      <td>1.000000</td>\n      <td>NaN</td>\n      <td>0.164055</td>\n      <td>0.170428</td>\n      <td>0.153264</td>\n      <td>0.330864</td>\n      <td>-0.049351</td>\n      <td>0.310902</td>\n      <td>0.132254</td>\n      <td>...</td>\n      <td>0.133482</td>\n      <td>-0.136631</td>\n      <td>-0.115713</td>\n      <td>0.132494</td>\n      <td>0.154064</td>\n      <td>-0.050585</td>\n      <td>0.284553</td>\n      <td>0.148404</td>\n      <td>-0.089425</td>\n      <td>0.419659</td>\n    </tr>\n    <tr>\n      <th>127</th>\n      <td>NaN</td>\n      <td>NaN</td>\n      <td>1.0</td>\n      <td>NaN</td>\n      <td>1.000000</td>\n      <td>1.000000</td>\n      <td>1.000000</td>\n      <td>0.451869</td>\n      <td>NaN</td>\n      <td>NaN</td>\n      <td>...</td>\n      <td>0.519875</td>\n      <td>-0.250087</td>\n      <td>NaN</td>\n      <td>NaN</td>\n      <td>NaN</td>\n      <td>NaN</td>\n      <td>NaN</td>\n      <td>-0.271163</td>\n      <td>NaN</td>\n      <td>NaN</td>\n    </tr>\n    <tr>\n      <th>170</th>\n      <td>0.570133</td>\n      <td>0.164055</td>\n      <td>NaN</td>\n      <td>1.000000</td>\n      <td>0.281336</td>\n      <td>-0.230146</td>\n      <td>0.484321</td>\n      <td>0.149081</td>\n      <td>0.412722</td>\n      <td>0.207416</td>\n      <td>...</td>\n      <td>0.540579</td>\n      <td>-0.099379</td>\n      <td>0.069702</td>\n      <td>-0.291594</td>\n      <td>-0.130951</td>\n      <td>0.207456</td>\n      <td>0.287347</td>\n      <td>-0.356262</td>\n      <td>-0.158425</td>\n      <td>-0.033531</td>\n    </tr>\n    <tr>\n      <th>175</th>\n      <td>-0.112645</td>\n      <td>0.170428</td>\n      <td>1.0</td>\n      <td>0.281336</td>\n      <td>1.000000</td>\n      <td>0.144357</td>\n      <td>0.299579</td>\n      <td>0.100223</td>\n      <td>0.338421</td>\n      <td>0.270972</td>\n      <td>...</td>\n      <td>0.276035</td>\n      <td>-0.050248</td>\n      <td>-0.024595</td>\n      <td>0.040960</td>\n      <td>0.119315</td>\n      <td>0.207318</td>\n      <td>0.355128</td>\n      <td>0.185841</td>\n      <td>0.090337</td>\n      <td>0.093465</td>\n    </tr>\n  </tbody>\n</table>\n<p>5 rows × 2113 columns</p>\n</div>"
     },
     "execution_count": 9,
     "metadata": {},
     "output_type": "execute_result"
    }
   ],
   "source": [
    "user_corr.head()"
   ],
   "metadata": {
    "collapsed": false
   }
  },
  {
   "cell_type": "code",
   "execution_count": 10,
   "outputs": [
    {
     "data": {
      "text/plain": "        3         32        110       160       163       165       173    \\\n3    1.000000 -0.015368  0.111132  0.002217  0.200618  0.140425  0.055598   \n32  -0.015368  1.000000  0.061669 -0.032359 -0.007163 -0.053268 -0.012604   \n110  0.111132  0.061669  1.000000  0.052782  0.188597  0.192570  0.074539   \n160  0.002217 -0.032359  0.052782  1.000000  0.012218  0.119334  0.273126   \n163  0.200618 -0.007163  0.188597  0.012218  1.000000  0.223179  0.258621   \n\n        296       353       420    ...  2666   763    60618  63276  63662  \\\n3   -0.078377  0.058541  0.359526  ...    NaN    NaN    NaN    NaN    NaN   \n32   0.242401  0.123062 -0.099941  ...    NaN    NaN    NaN    NaN    NaN   \n110  0.065980  0.195157  0.078604  ...    NaN    NaN    NaN    NaN    NaN   \n160 -0.136461  0.044609  0.244656  ...    NaN    NaN    NaN    NaN    NaN   \n163  0.205331  0.148127  0.161411  ...    NaN    NaN    NaN    NaN    NaN   \n\n     62796  3585   59065  4421   8393   \n3      NaN    NaN    NaN    NaN    NaN  \n32     NaN    NaN    NaN    NaN    NaN  \n110    NaN    NaN    NaN    NaN    NaN  \n160    NaN    NaN    NaN    NaN    NaN  \n163    NaN    NaN    NaN    NaN    NaN  \n\n[5 rows x 10109 columns]",
      "text/html": "<div>\n<style scoped>\n    .dataframe tbody tr th:only-of-type {\n        vertical-align: middle;\n    }\n\n    .dataframe tbody tr th {\n        vertical-align: top;\n    }\n\n    .dataframe thead th {\n        text-align: right;\n    }\n</style>\n<table border=\"1\" class=\"dataframe\">\n  <thead>\n    <tr style=\"text-align: right;\">\n      <th></th>\n      <th>3</th>\n      <th>32</th>\n      <th>110</th>\n      <th>160</th>\n      <th>163</th>\n      <th>165</th>\n      <th>173</th>\n      <th>296</th>\n      <th>353</th>\n      <th>420</th>\n      <th>...</th>\n      <th>2666</th>\n      <th>763</th>\n      <th>60618</th>\n      <th>63276</th>\n      <th>63662</th>\n      <th>62796</th>\n      <th>3585</th>\n      <th>59065</th>\n      <th>4421</th>\n      <th>8393</th>\n    </tr>\n  </thead>\n  <tbody>\n    <tr>\n      <th>3</th>\n      <td>1.000000</td>\n      <td>-0.015368</td>\n      <td>0.111132</td>\n      <td>0.002217</td>\n      <td>0.200618</td>\n      <td>0.140425</td>\n      <td>0.055598</td>\n      <td>-0.078377</td>\n      <td>0.058541</td>\n      <td>0.359526</td>\n      <td>...</td>\n      <td>NaN</td>\n      <td>NaN</td>\n      <td>NaN</td>\n      <td>NaN</td>\n      <td>NaN</td>\n      <td>NaN</td>\n      <td>NaN</td>\n      <td>NaN</td>\n      <td>NaN</td>\n      <td>NaN</td>\n    </tr>\n    <tr>\n      <th>32</th>\n      <td>-0.015368</td>\n      <td>1.000000</td>\n      <td>0.061669</td>\n      <td>-0.032359</td>\n      <td>-0.007163</td>\n      <td>-0.053268</td>\n      <td>-0.012604</td>\n      <td>0.242401</td>\n      <td>0.123062</td>\n      <td>-0.099941</td>\n      <td>...</td>\n      <td>NaN</td>\n      <td>NaN</td>\n      <td>NaN</td>\n      <td>NaN</td>\n      <td>NaN</td>\n      <td>NaN</td>\n      <td>NaN</td>\n      <td>NaN</td>\n      <td>NaN</td>\n      <td>NaN</td>\n    </tr>\n    <tr>\n      <th>110</th>\n      <td>0.111132</td>\n      <td>0.061669</td>\n      <td>1.000000</td>\n      <td>0.052782</td>\n      <td>0.188597</td>\n      <td>0.192570</td>\n      <td>0.074539</td>\n      <td>0.065980</td>\n      <td>0.195157</td>\n      <td>0.078604</td>\n      <td>...</td>\n      <td>NaN</td>\n      <td>NaN</td>\n      <td>NaN</td>\n      <td>NaN</td>\n      <td>NaN</td>\n      <td>NaN</td>\n      <td>NaN</td>\n      <td>NaN</td>\n      <td>NaN</td>\n      <td>NaN</td>\n    </tr>\n    <tr>\n      <th>160</th>\n      <td>0.002217</td>\n      <td>-0.032359</td>\n      <td>0.052782</td>\n      <td>1.000000</td>\n      <td>0.012218</td>\n      <td>0.119334</td>\n      <td>0.273126</td>\n      <td>-0.136461</td>\n      <td>0.044609</td>\n      <td>0.244656</td>\n      <td>...</td>\n      <td>NaN</td>\n      <td>NaN</td>\n      <td>NaN</td>\n      <td>NaN</td>\n      <td>NaN</td>\n      <td>NaN</td>\n      <td>NaN</td>\n      <td>NaN</td>\n      <td>NaN</td>\n      <td>NaN</td>\n    </tr>\n    <tr>\n      <th>163</th>\n      <td>0.200618</td>\n      <td>-0.007163</td>\n      <td>0.188597</td>\n      <td>0.012218</td>\n      <td>1.000000</td>\n      <td>0.223179</td>\n      <td>0.258621</td>\n      <td>0.205331</td>\n      <td>0.148127</td>\n      <td>0.161411</td>\n      <td>...</td>\n      <td>NaN</td>\n      <td>NaN</td>\n      <td>NaN</td>\n      <td>NaN</td>\n      <td>NaN</td>\n      <td>NaN</td>\n      <td>NaN</td>\n      <td>NaN</td>\n      <td>NaN</td>\n      <td>NaN</td>\n    </tr>\n  </tbody>\n</table>\n<p>5 rows × 10109 columns</p>\n</div>"
     },
     "execution_count": 10,
     "metadata": {},
     "output_type": "execute_result"
    }
   ],
   "source": [
    "movie_corr.head()"
   ],
   "metadata": {
    "collapsed": false
   }
  },
  {
   "cell_type": "code",
   "execution_count": 11,
   "outputs": [],
   "source": [
    "user_corr.to_csv('user_corr', index=True, columns=user_corr.columns.values)\n",
    "movie_corr.to_csv('movie_corr', index=True, columns=movie_corr.columns.values)\n",
    "user_movie.to_csv('user_movie', index=True, columns=user_movie.columns.values)"
   ],
   "metadata": {
    "collapsed": false
   }
  },
  {
   "cell_type": "markdown",
   "source": [
    "# item-based/user-based подход"
   ],
   "metadata": {
    "collapsed": false
   }
  },
  {
   "cell_type": "code",
   "execution_count": 201,
   "outputs": [],
   "source": [
    "user_corr = pd.read_csv(\"user_corr\", header=0, index_col=0)\n",
    "movie_corr= pd.read_csv(\"movie_corr\", header=0, index_col=0)\n",
    "user_movie = pd.read_csv(\"user_movie\", header=0, index_col=0)"
   ],
   "metadata": {
    "collapsed": false
   }
  },
  {
   "cell_type": "code",
   "execution_count": 202,
   "outputs": [],
   "source": [
    "def get_most_similar(df, user_id: int, n: int = 1) -> pd.DataFrame:\n",
    "    queryset = df.sort_values(by=f'{user_id}', ascending=False)\n",
    "    res = pd.DataFrame(queryset[f'{user_id}'][1:n + 1])\n",
    "    res.columns = ['corr']\n",
    "    if n == 1:\n",
    "        return res[0]\n",
    "    return res\n"
   ],
   "metadata": {
    "collapsed": false
   }
  },
  {
   "cell_type": "code",
   "execution_count": 203,
   "outputs": [],
   "source": [
    "def get_user_rated_movie(user_id: int, n=-1):\n",
    "    queryset = user_rated_movies[user_rated_movies['userID'] == user_id]\n",
    "    res = pd.DataFrame(queryset['movieID'])\n",
    "\n",
    "    if n != -1:\n",
    "        queryset = queryset.sort_values(by='rating', ascending=False) # type: ignore\n",
    "        res = pd.DataFrame(queryset['movieID'].head(n))\n",
    "\n",
    "    res.columns = ['movieID']\n",
    "    return res"
   ],
   "metadata": {
    "collapsed": false
   }
  },
  {
   "cell_type": "code",
   "execution_count": 204,
   "outputs": [],
   "source": [
    "def get_user_movie_rate(user_id: int, movie_id: int) -> int:\n",
    "    queryset = user_rated_movies[(user_rated_movies['userID'] == user_id) & (user_rated_movies['movieID'] == movie_id)]\n",
    "    return 0 if queryset.empty else queryset['rating'].values[0]"
   ],
   "metadata": {
    "collapsed": false
   }
  },
  {
   "cell_type": "code",
   "execution_count": 205,
   "outputs": [],
   "source": [
    "def draw_common_movie_rates(user_1: int, user_2: int, movies_count: int = 5):\n",
    "    user_1_movies = get_user_rated_movie(user_1)['movieID'].to_list()\n",
    "    user_2_movies = get_user_rated_movie(user_2)['movieID'].to_list()\n",
    "\n",
    "    common_movies = set(user_1_movies) & set(user_2_movies)\n",
    "    common_movies = list(itertools.islice(common_movies, movies_count))\n",
    "\n",
    "    user_1_movie_rating = []\n",
    "    user_2_movie_rating = []\n",
    "\n",
    "    for movie in common_movies:\n",
    "        user_1_movie_rating.append(get_user_movie_rate(user_1, movie))\n",
    "        user_2_movie_rating.append(get_user_movie_rate(user_2, movie))\n",
    "\n",
    "    x = np.arange(len(common_movies))\n",
    "    width = 0.37\n",
    "\n",
    "    fig, ax = plt.subplots()\n",
    "    rects1 = ax.bar(x - width/2, user_1_movie_rating, width, label=f'user {user_1}')\n",
    "    rects2 = ax.bar(x + width/2, user_2_movie_rating, width, label=f'user {user_2}')\n",
    "\n",
    "    ax.set_ylabel('Rating')\n",
    "    ax.set_title('Movie rating between two users')\n",
    "    ax.set_xticks(x, common_movies)\n",
    "    ax.legend()\n",
    "\n",
    "    ax.bar_label(rects1, padding=3)\n",
    "    ax.bar_label(rects2, padding=3)\n",
    "\n",
    "    fig.tight_layout()\n",
    "\n",
    "    plt.show()"
   ],
   "metadata": {
    "collapsed": false
   }
  },
  {
   "cell_type": "code",
   "execution_count": 206,
   "outputs": [
    {
     "data": {
      "text/plain": "           corr\n14171  1.000000\n36548  1.000000\n46126  1.000000\n26819  1.000000\n23647  1.000000\n1117   1.000000\n20734  1.000000\n53022  1.000000\n16289  1.000000\n54250  1.000000\n14246  1.000000\n732    1.000000\n637    1.000000\n56811  1.000000\n11810  1.000000\n60259  1.000000\n67907  1.000000\n10335  1.000000\n64264  1.000000\n10936  1.000000\n12356  1.000000\n6449   1.000000\n59889  1.000000\n13561  1.000000\n548    1.000000\n15168  0.997176\n58601  0.991870\n10125  0.989743\n16592  0.983415\n36907  0.981336",
      "text/html": "<div>\n<style scoped>\n    .dataframe tbody tr th:only-of-type {\n        vertical-align: middle;\n    }\n\n    .dataframe tbody tr th {\n        vertical-align: top;\n    }\n\n    .dataframe thead th {\n        text-align: right;\n    }\n</style>\n<table border=\"1\" class=\"dataframe\">\n  <thead>\n    <tr style=\"text-align: right;\">\n      <th></th>\n      <th>corr</th>\n    </tr>\n  </thead>\n  <tbody>\n    <tr>\n      <th>14171</th>\n      <td>1.000000</td>\n    </tr>\n    <tr>\n      <th>36548</th>\n      <td>1.000000</td>\n    </tr>\n    <tr>\n      <th>46126</th>\n      <td>1.000000</td>\n    </tr>\n    <tr>\n      <th>26819</th>\n      <td>1.000000</td>\n    </tr>\n    <tr>\n      <th>23647</th>\n      <td>1.000000</td>\n    </tr>\n    <tr>\n      <th>1117</th>\n      <td>1.000000</td>\n    </tr>\n    <tr>\n      <th>20734</th>\n      <td>1.000000</td>\n    </tr>\n    <tr>\n      <th>53022</th>\n      <td>1.000000</td>\n    </tr>\n    <tr>\n      <th>16289</th>\n      <td>1.000000</td>\n    </tr>\n    <tr>\n      <th>54250</th>\n      <td>1.000000</td>\n    </tr>\n    <tr>\n      <th>14246</th>\n      <td>1.000000</td>\n    </tr>\n    <tr>\n      <th>732</th>\n      <td>1.000000</td>\n    </tr>\n    <tr>\n      <th>637</th>\n      <td>1.000000</td>\n    </tr>\n    <tr>\n      <th>56811</th>\n      <td>1.000000</td>\n    </tr>\n    <tr>\n      <th>11810</th>\n      <td>1.000000</td>\n    </tr>\n    <tr>\n      <th>60259</th>\n      <td>1.000000</td>\n    </tr>\n    <tr>\n      <th>67907</th>\n      <td>1.000000</td>\n    </tr>\n    <tr>\n      <th>10335</th>\n      <td>1.000000</td>\n    </tr>\n    <tr>\n      <th>64264</th>\n      <td>1.000000</td>\n    </tr>\n    <tr>\n      <th>10936</th>\n      <td>1.000000</td>\n    </tr>\n    <tr>\n      <th>12356</th>\n      <td>1.000000</td>\n    </tr>\n    <tr>\n      <th>6449</th>\n      <td>1.000000</td>\n    </tr>\n    <tr>\n      <th>59889</th>\n      <td>1.000000</td>\n    </tr>\n    <tr>\n      <th>13561</th>\n      <td>1.000000</td>\n    </tr>\n    <tr>\n      <th>548</th>\n      <td>1.000000</td>\n    </tr>\n    <tr>\n      <th>15168</th>\n      <td>0.997176</td>\n    </tr>\n    <tr>\n      <th>58601</th>\n      <td>0.991870</td>\n    </tr>\n    <tr>\n      <th>10125</th>\n      <td>0.989743</td>\n    </tr>\n    <tr>\n      <th>16592</th>\n      <td>0.983415</td>\n    </tr>\n    <tr>\n      <th>36907</th>\n      <td>0.981336</td>\n    </tr>\n  </tbody>\n</table>\n</div>"
     },
     "execution_count": 206,
     "metadata": {},
     "output_type": "execute_result"
    }
   ],
   "source": [
    "get_most_similar(user_corr, 75, n=30)"
   ],
   "metadata": {
    "collapsed": false
   }
  },
  {
   "cell_type": "code",
   "execution_count": 207,
   "outputs": [
    {
     "data": {
      "text/plain": "          corr\n2638  1.000000\n1406  1.000000\n2744  1.000000\n7133  1.000000\n503   1.000000\n...        ...\n7129  1.000000\n2233  1.000000\n5022  0.999999\n7748  0.999997\n6689  0.999965\n\n[444 rows x 1 columns]",
      "text/html": "<div>\n<style scoped>\n    .dataframe tbody tr th:only-of-type {\n        vertical-align: middle;\n    }\n\n    .dataframe tbody tr th {\n        vertical-align: top;\n    }\n\n    .dataframe thead th {\n        text-align: right;\n    }\n</style>\n<table border=\"1\" class=\"dataframe\">\n  <thead>\n    <tr style=\"text-align: right;\">\n      <th></th>\n      <th>corr</th>\n    </tr>\n  </thead>\n  <tbody>\n    <tr>\n      <th>2638</th>\n      <td>1.000000</td>\n    </tr>\n    <tr>\n      <th>1406</th>\n      <td>1.000000</td>\n    </tr>\n    <tr>\n      <th>2744</th>\n      <td>1.000000</td>\n    </tr>\n    <tr>\n      <th>7133</th>\n      <td>1.000000</td>\n    </tr>\n    <tr>\n      <th>503</th>\n      <td>1.000000</td>\n    </tr>\n    <tr>\n      <th>...</th>\n      <td>...</td>\n    </tr>\n    <tr>\n      <th>7129</th>\n      <td>1.000000</td>\n    </tr>\n    <tr>\n      <th>2233</th>\n      <td>1.000000</td>\n    </tr>\n    <tr>\n      <th>5022</th>\n      <td>0.999999</td>\n    </tr>\n    <tr>\n      <th>7748</th>\n      <td>0.999997</td>\n    </tr>\n    <tr>\n      <th>6689</th>\n      <td>0.999965</td>\n    </tr>\n  </tbody>\n</table>\n<p>444 rows × 1 columns</p>\n</div>"
     },
     "execution_count": 207,
     "metadata": {},
     "output_type": "execute_result"
    }
   ],
   "source": [
    "get_most_similar(movie_corr, 3, n=444)"
   ],
   "metadata": {
    "collapsed": false
   }
  },
  {
   "cell_type": "code",
   "execution_count": 208,
   "outputs": [
    {
     "data": {
      "text/plain": "<Figure size 432x288 with 1 Axes>",
      "image/png": "[encoded data removed]"
     },
     "metadata": {},
     "output_type": "display_data"
    }
   ],
   "source": [
    "draw_common_movie_rates(75, 14171, 10)"
   ],
   "metadata": {
    "collapsed": false
   }
  },
  {
   "cell_type": "code",
   "execution_count": 209,
   "outputs": [
    {
     "data": {
      "text/plain": "<Figure size 432x288 with 1 Axes>",
      "image/png": "[encoded data removed]"
     },
     "metadata": {},
     "output_type": "display_data"
    }
   ],
   "source": [
    "draw_common_movie_rates(78, 36907, 10)"
   ],
   "metadata": {
    "collapsed": false
   }
  },
  {
   "cell_type": "markdown",
   "source": [
    "# кластеризация"
   ],
   "metadata": {
    "collapsed": false
   }
  },
  {
   "cell_type": "code",
   "execution_count": 210,
   "outputs": [
    {
     "name": "stderr",
     "output_type": "stream",
     "text": [
      "C:\\Projects\\SFU\\TVO\\pr5\\venv\\lib\\site-packages\\sklearn\\cluster\\_kmeans.py:1416: FutureWarning: The default value of `n_init` will change from 10 to 'auto' in 1.4. Set the value of `n_init` explicitly to suppress the warning\n",
      "  super()._check_params_vs_input(X, default_n_init=10)\n",
      "C:\\Projects\\SFU\\TVO\\pr5\\venv\\lib\\site-packages\\sklearn\\cluster\\_kmeans.py:1416: FutureWarning: The default value of `n_init` will change from 10 to 'auto' in 1.4. Set the value of `n_init` explicitly to suppress the warning\n",
      "  super()._check_params_vs_input(X, default_n_init=10)\n",
      "C:\\Projects\\SFU\\TVO\\pr5\\venv\\lib\\site-packages\\sklearn\\cluster\\_kmeans.py:1416: FutureWarning: The default value of `n_init` will change from 10 to 'auto' in 1.4. Set the value of `n_init` explicitly to suppress the warning\n",
      "  super()._check_params_vs_input(X, default_n_init=10)\n",
      "C:\\Projects\\SFU\\TVO\\pr5\\venv\\lib\\site-packages\\sklearn\\cluster\\_kmeans.py:1416: FutureWarning: The default value of `n_init` will change from 10 to 'auto' in 1.4. Set the value of `n_init` explicitly to suppress the warning\n",
      "  super()._check_params_vs_input(X, default_n_init=10)\n",
      "C:\\Projects\\SFU\\TVO\\pr5\\venv\\lib\\site-packages\\sklearn\\cluster\\_kmeans.py:1416: FutureWarning: The default value of `n_init` will change from 10 to 'auto' in 1.4. Set the value of `n_init` explicitly to suppress the warning\n",
      "  super()._check_params_vs_input(X, default_n_init=10)\n",
      "C:\\Projects\\SFU\\TVO\\pr5\\venv\\lib\\site-packages\\sklearn\\cluster\\_kmeans.py:1416: FutureWarning: The default value of `n_init` will change from 10 to 'auto' in 1.4. Set the value of `n_init` explicitly to suppress the warning\n",
      "  super()._check_params_vs_input(X, default_n_init=10)\n",
      "C:\\Projects\\SFU\\TVO\\pr5\\venv\\lib\\site-packages\\sklearn\\cluster\\_kmeans.py:1416: FutureWarning: The default value of `n_init` will change from 10 to 'auto' in 1.4. Set the value of `n_init` explicitly to suppress the warning\n",
      "  super()._check_params_vs_input(X, default_n_init=10)\n",
      "C:\\Projects\\SFU\\TVO\\pr5\\venv\\lib\\site-packages\\sklearn\\cluster\\_kmeans.py:1416: FutureWarning: The default value of `n_init` will change from 10 to 'auto' in 1.4. Set the value of `n_init` explicitly to suppress the warning\n",
      "  super()._check_params_vs_input(X, default_n_init=10)\n",
      "C:\\Projects\\SFU\\TVO\\pr5\\venv\\lib\\site-packages\\sklearn\\cluster\\_kmeans.py:1416: FutureWarning: The default value of `n_init` will change from 10 to 'auto' in 1.4. Set the value of `n_init` explicitly to suppress the warning\n",
      "  super()._check_params_vs_input(X, default_n_init=10)\n",
      "C:\\Projects\\SFU\\TVO\\pr5\\venv\\lib\\site-packages\\sklearn\\cluster\\_kmeans.py:1416: FutureWarning: The default value of `n_init` will change from 10 to 'auto' in 1.4. Set the value of `n_init` explicitly to suppress the warning\n",
      "  super()._check_params_vs_input(X, default_n_init=10)\n"
     ]
    },
    {
     "name": "stdout",
     "output_type": "stream",
     "text": [
      "3\n"
     ]
    }
   ],
   "source": [
    "from kneed import KneeLocator\n",
    "\n",
    "sse = []\n",
    "\n",
    "if True:\n",
    "    for k in range(1, 11):\n",
    "        kmeans = KMeans(n_clusters=k)\n",
    "        kmeans.fit(user_movie.replace(np.nan, 0))\n",
    "        sse.append(kmeans.inertia_)\n",
    "\n",
    "    kl = KneeLocator(range(1, 11), sse, curve=\"convex\", direction=\"decreasing\")\n",
    "    best_cluster_count = kl.elbow\n",
    "    print(best_cluster_count)"
   ],
   "metadata": {
    "collapsed": false
   }
  },
  {
   "cell_type": "code",
   "execution_count": 211,
   "outputs": [
    {
     "data": {
      "text/plain": "<Figure size 432x288 with 1 Axes>",
      "image/png": "[encoded data removed]"
     },
     "metadata": {},
     "output_type": "display_data"
    }
   ],
   "source": [
    "plt.style.use(\"fivethirtyeight\")\n",
    "plt.plot(range(1, 11), sse)\n",
    "plt.xticks(range(1, 11))\n",
    "plt.xlabel(\"Number of Clusters\")\n",
    "plt.ylabel(\"SSE\")\n",
    "plt.show()"
   ],
   "metadata": {
    "collapsed": false
   }
  },
  {
   "cell_type": "code",
   "execution_count": 212,
   "outputs": [],
   "source": [
    "#if best_cluster_count < 4:\n",
    "#    best_cluster_count = 5"
   ],
   "metadata": {
    "collapsed": false
   }
  },
  {
   "cell_type": "code",
   "execution_count": 213,
   "outputs": [
    {
     "name": "stderr",
     "output_type": "stream",
     "text": [
      "C:\\Projects\\SFU\\TVO\\pr5\\venv\\lib\\site-packages\\sklearn\\cluster\\_kmeans.py:1416: FutureWarning: The default value of `n_init` will change from 10 to 'auto' in 1.4. Set the value of `n_init` explicitly to suppress the warning\n",
      "  super()._check_params_vs_input(X, default_n_init=10)\n"
     ]
    }
   ],
   "source": [
    "user_movie['label'] = KMeans(n_clusters=best_cluster_count).fit(user_movie.replace(np.nan, 0)).predict(user_movie.replace(np.nan, 0))"
   ],
   "metadata": {
    "collapsed": false
   }
  },
  {
   "cell_type": "code",
   "execution_count": 214,
   "outputs": [],
   "source": [
    "def get_user_cluster(user_id: int):\n",
    "    return np.array(user_movie['label'].loc[[user_id]])[0]"
   ],
   "metadata": {
    "collapsed": false
   }
  },
  {
   "cell_type": "code",
   "execution_count": 215,
   "outputs": [
    {
     "name": "stdout",
     "output_type": "stream",
     "text": [
      "Users in cluster 0: 1\n",
      "Users in cluster 1: 342\n",
      "Users in cluster 2: 1770\n"
     ]
    }
   ],
   "source": [
    "for i in sorted(user_movie['label'].unique()):\n",
    "    print(f'Users in cluster {i}: {len(user_movie[user_movie[\"label\"] == i])}')"
   ],
   "metadata": {
    "collapsed": false
   }
  },
  {
   "cell_type": "code",
   "execution_count": 216,
   "outputs": [],
   "source": [
    "def get_movie_rating_for_user(user_id: int, movie_id: int):\n",
    "    return np.array(user_movie.groupby('label')[str(movie_id)].mean().loc[[get_user_cluster(user_id)]])[0]"
   ],
   "metadata": {
    "collapsed": false
   }
  },
  {
   "cell_type": "code",
   "execution_count": 217,
   "outputs": [],
   "source": [
    "def get_movie_predicts(user_id, n = 10):\n",
    "    predicts = pd.DataFrame(columns=[\"original\", \"predict\"])\n",
    "    for i in range(0, n):\n",
    "        movie_id = int(user_movie.columns[i])\n",
    "        original = np.array(user_movie[str(movie_id)].loc[[user_id]])[0]\n",
    "        predict = get_movie_rating_for_user(user_id, movie_id)\n",
    "        predicts.loc[len(predicts.index)] = [original, predict]\n",
    "    return predicts"
   ],
   "metadata": {
    "collapsed": false
   }
  },
  {
   "cell_type": "code",
   "execution_count": 218,
   "outputs": [
    {
     "data": {
      "text/plain": "-0.5459961347925598"
     },
     "execution_count": 218,
     "metadata": {},
     "output_type": "execute_result"
    }
   ],
   "source": [
    "get_movie_rating_for_user(75, 3)"
   ],
   "metadata": {
    "collapsed": false
   }
  },
  {
   "cell_type": "code",
   "execution_count": 219,
   "outputs": [
    {
     "data": {
      "text/plain": "   original   predict\n0 -2.463636 -0.545996\n1  1.036364  0.384125\n2  0.536364  0.276274\n3 -1.463636 -0.919977\n4  0.536364 -0.119542\n5  1.036364 -0.077302\n6  0.036364 -0.870377\n7  1.536364  0.568185\n8  0.036364  0.069973\n9 -1.463636 -0.764624",
      "text/html": "<div>\n<style scoped>\n    .dataframe tbody tr th:only-of-type {\n        vertical-align: middle;\n    }\n\n    .dataframe tbody tr th {\n        vertical-align: top;\n    }\n\n    .dataframe thead th {\n        text-align: right;\n    }\n</style>\n<table border=\"1\" class=\"dataframe\">\n  <thead>\n    <tr style=\"text-align: right;\">\n      <th></th>\n      <th>original</th>\n      <th>predict</th>\n    </tr>\n  </thead>\n  <tbody>\n    <tr>\n      <th>0</th>\n      <td>-2.463636</td>\n      <td>-0.545996</td>\n    </tr>\n    <tr>\n      <th>1</th>\n      <td>1.036364</td>\n      <td>0.384125</td>\n    </tr>\n    <tr>\n      <th>2</th>\n      <td>0.536364</td>\n      <td>0.276274</td>\n    </tr>\n    <tr>\n      <th>3</th>\n      <td>-1.463636</td>\n      <td>-0.919977</td>\n    </tr>\n    <tr>\n      <th>4</th>\n      <td>0.536364</td>\n      <td>-0.119542</td>\n    </tr>\n    <tr>\n      <th>5</th>\n      <td>1.036364</td>\n      <td>-0.077302</td>\n    </tr>\n    <tr>\n      <th>6</th>\n      <td>0.036364</td>\n      <td>-0.870377</td>\n    </tr>\n    <tr>\n      <th>7</th>\n      <td>1.536364</td>\n      <td>0.568185</td>\n    </tr>\n    <tr>\n      <th>8</th>\n      <td>0.036364</td>\n      <td>0.069973</td>\n    </tr>\n    <tr>\n      <th>9</th>\n      <td>-1.463636</td>\n      <td>-0.764624</td>\n    </tr>\n  </tbody>\n</table>\n</div>"
     },
     "execution_count": 219,
     "metadata": {},
     "output_type": "execute_result"
    }
   ],
   "source": [
    "predicts = get_movie_predicts(75, 10)\n",
    "predicts"
   ],
   "metadata": {
    "collapsed": false
   }
  },
  {
   "cell_type": "code",
   "execution_count": 220,
   "outputs": [
    {
     "data": {
      "text/plain": "<Axes: >"
     },
     "execution_count": 220,
     "metadata": {},
     "output_type": "execute_result"
    },
    {
     "data": {
      "text/plain": "<Figure size 432x288 with 1 Axes>",
      "image/png": "[encoded data removed]"
     },
     "metadata": {},
     "output_type": "display_data"
    }
   ],
   "source": [
    "predicts.plot(y=[\"original\", \"predict\"], kind=\"bar\")"
   ],
   "metadata": {
    "collapsed": false
   }
  },
  {
   "cell_type": "markdown",
   "source": [
    "# SVD"
   ],
   "metadata": {
    "collapsed": false
   }
  },
  {
   "cell_type": "code",
   "execution_count": 221,
   "outputs": [
    {
     "data": {
      "text/plain": "              3        32       110       160       163       165       173  \\\n75    -2.463636  1.036364  0.536364 -1.463636  0.536364  1.036364  0.036364   \n78     0.000000  0.878205 -0.621795  0.000000  0.000000  0.000000  0.000000   \n127    0.000000  0.000000  0.000000  0.000000  0.000000  0.000000  0.000000   \n170    0.000000  0.933735  0.000000  0.000000  0.000000 -0.066265  0.000000   \n175    0.000000 -0.307971  0.692029  0.000000  0.000000  0.000000  0.000000   \n...         ...       ...       ...       ...       ...       ...       ...   \n71497  0.000000  0.000000 -0.046000  0.000000  0.000000  0.000000  0.000000   \n71509  0.000000 -0.381055  0.000000  0.000000  0.000000  0.000000  0.000000   \n71525  0.000000  0.000000  1.024155  0.000000  0.000000  1.024155  0.000000   \n71529 -1.391089  0.000000  0.000000  0.000000  0.000000  0.000000  0.000000   \n71534  0.000000  0.344118  0.000000  0.000000  0.000000  0.000000  0.000000   \n\n            296       353       420  ...  763  60618  63276  63662  62796  \\\n75     1.536364  0.036364 -1.463636  ...  0.0    0.0    0.0    0.0    0.0   \n78     0.378205  0.000000  0.000000  ...  0.0    0.0    0.0    0.0    0.0   \n127    0.000000  0.000000  0.000000  ...  0.0    0.0    0.0    0.0    0.0   \n170    1.433735  0.000000 -0.566265  ...  0.0    0.0    0.0    0.0    0.0   \n175    0.692029  0.000000  0.000000  ...  0.0    0.0    0.0    0.0    0.0   \n...         ...       ...       ...  ...  ...    ...    ...    ...    ...   \n71497  0.000000  0.000000  0.000000  ...  0.0    0.0    0.0    0.0    0.0   \n71509  1.118945  0.000000  0.000000  ...  0.0    0.0    0.0    0.0    0.0   \n71525  0.000000  0.000000 -0.975845  ...  0.0    0.0    0.0    0.0    0.0   \n71529  0.000000  0.000000  0.000000  ...  0.0    0.0    0.0    0.0    0.0   \n71534 -0.155882  0.000000  0.000000  ...  0.0    0.0    0.0    0.0    0.0   \n\n       3585  59065  4421      8393  label  \n75      0.0    0.0   0.0  0.000000      2  \n78      0.0    0.0   0.0  0.000000      2  \n127     0.0    0.0   0.0  0.000000      2  \n170     0.0    0.0   0.0  0.000000      2  \n175     0.0    0.0   0.0  0.000000      2  \n...     ...    ...   ...       ...    ...  \n71497   0.0    0.0   0.0  0.000000      2  \n71509   0.0    0.0   0.0 -0.381055      1  \n71525   0.0    0.0   0.0  0.000000      2  \n71529   0.0    0.0   0.0  0.000000      2  \n71534   0.0    0.0   0.0  0.000000      2  \n\n[2113 rows x 10110 columns]",
      "text/html": "<div>\n<style scoped>\n    .dataframe tbody tr th:only-of-type {\n        vertical-align: middle;\n    }\n\n    .dataframe tbody tr th {\n        vertical-align: top;\n    }\n\n    .dataframe thead th {\n        text-align: right;\n    }\n</style>\n<table border=\"1\" class=\"dataframe\">\n  <thead>\n    <tr style=\"text-align: right;\">\n      <th></th>\n      <th>3</th>\n      <th>32</th>\n      <th>110</th>\n      <th>160</th>\n      <th>163</th>\n      <th>165</th>\n      <th>173</th>\n      <th>296</th>\n      <th>353</th>\n      <th>420</th>\n      <th>...</th>\n      <th>763</th>\n      <th>60618</th>\n      <th>63276</th>\n      <th>63662</th>\n      <th>62796</th>\n      <th>3585</th>\n      <th>59065</th>\n      <th>4421</th>\n      <th>8393</th>\n      <th>label</th>\n    </tr>\n  </thead>\n  <tbody>\n    <tr>\n      <th>75</th>\n      <td>-2.463636</td>\n      <td>1.036364</td>\n      <td>0.536364</td>\n      <td>-1.463636</td>\n      <td>0.536364</td>\n      <td>1.036364</td>\n      <td>0.036364</td>\n      <td>1.536364</td>\n      <td>0.036364</td>\n      <td>-1.463636</td>\n      <td>...</td>\n      <td>0.0</td>\n      <td>0.0</td>\n      <td>0.0</td>\n      <td>0.0</td>\n      <td>0.0</td>\n      <td>0.0</td>\n      <td>0.0</td>\n      <td>0.0</td>\n      <td>0.000000</td>\n      <td>2</td>\n    </tr>\n    <tr>\n      <th>78</th>\n      <td>0.000000</td>\n      <td>0.878205</td>\n      <td>-0.621795</td>\n      <td>0.000000</td>\n      <td>0.000000</td>\n      <td>0.000000</td>\n      <td>0.000000</td>\n      <td>0.378205</td>\n      <td>0.000000</td>\n      <td>0.000000</td>\n      <td>...</td>\n      <td>0.0</td>\n      <td>0.0</td>\n      <td>0.0</td>\n      <td>0.0</td>\n      <td>0.0</td>\n      <td>0.0</td>\n      <td>0.0</td>\n      <td>0.0</td>\n      <td>0.000000</td>\n      <td>2</td>\n    </tr>\n    <tr>\n      <th>127</th>\n      <td>0.000000</td>\n      <td>0.000000</td>\n      <td>0.000000</td>\n      <td>0.000000</td>\n      <td>0.000000</td>\n      <td>0.000000</td>\n      <td>0.000000</td>\n      <td>0.000000</td>\n      <td>0.000000</td>\n      <td>0.000000</td>\n      <td>...</td>\n      <td>0.0</td>\n      <td>0.0</td>\n      <td>0.0</td>\n      <td>0.0</td>\n      <td>0.0</td>\n      <td>0.0</td>\n      <td>0.0</td>\n      <td>0.0</td>\n      <td>0.000000</td>\n      <td>2</td>\n    </tr>\n    <tr>\n      <th>170</th>\n      <td>0.000000</td>\n      <td>0.933735</td>\n      <td>0.000000</td>\n      <td>0.000000</td>\n      <td>0.000000</td>\n      <td>-0.066265</td>\n      <td>0.000000</td>\n      <td>1.433735</td>\n      <td>0.000000</td>\n      <td>-0.566265</td>\n      <td>...</td>\n      <td>0.0</td>\n      <td>0.0</td>\n      <td>0.0</td>\n      <td>0.0</td>\n      <td>0.0</td>\n      <td>0.0</td>\n      <td>0.0</td>\n      <td>0.0</td>\n      <td>0.000000</td>\n      <td>2</td>\n    </tr>\n    <tr>\n      <th>175</th>\n      <td>0.000000</td>\n      <td>-0.307971</td>\n      <td>0.692029</td>\n      <td>0.000000</td>\n      <td>0.000000</td>\n      <td>0.000000</td>\n      <td>0.000000</td>\n      <td>0.692029</td>\n      <td>0.000000</td>\n      <td>0.000000</td>\n      <td>...</td>\n      <td>0.0</td>\n      <td>0.0</td>\n      <td>0.0</td>\n      <td>0.0</td>\n      <td>0.0</td>\n      <td>0.0</td>\n      <td>0.0</td>\n      <td>0.0</td>\n      <td>0.000000</td>\n      <td>2</td>\n    </tr>\n    <tr>\n      <th>...</th>\n      <td>...</td>\n      <td>...</td>\n      <td>...</td>\n      <td>...</td>\n      <td>...</td>\n      <td>...</td>\n      <td>...</td>\n      <td>...</td>\n      <td>...</td>\n      <td>...</td>\n      <td>...</td>\n      <td>...</td>\n      <td>...</td>\n      <td>...</td>\n      <td>...</td>\n      <td>...</td>\n      <td>...</td>\n      <td>...</td>\n      <td>...</td>\n      <td>...</td>\n      <td>...</td>\n    </tr>\n    <tr>\n      <th>71497</th>\n      <td>0.000000</td>\n      <td>0.000000</td>\n      <td>-0.046000</td>\n      <td>0.000000</td>\n      <td>0.000000</td>\n      <td>0.000000</td>\n      <td>0.000000</td>\n      <td>0.000000</td>\n      <td>0.000000</td>\n      <td>0.000000</td>\n      <td>...</td>\n      <td>0.0</td>\n      <td>0.0</td>\n      <td>0.0</td>\n      <td>0.0</td>\n      <td>0.0</td>\n      <td>0.0</td>\n      <td>0.0</td>\n      <td>0.0</td>\n      <td>0.000000</td>\n      <td>2</td>\n    </tr>\n    <tr>\n      <th>71509</th>\n      <td>0.000000</td>\n      <td>-0.381055</td>\n      <td>0.000000</td>\n      <td>0.000000</td>\n      <td>0.000000</td>\n      <td>0.000000</td>\n      <td>0.000000</td>\n      <td>1.118945</td>\n      <td>0.000000</td>\n      <td>0.000000</td>\n      <td>...</td>\n      <td>0.0</td>\n      <td>0.0</td>\n      <td>0.0</td>\n      <td>0.0</td>\n      <td>0.0</td>\n      <td>0.0</td>\n      <td>0.0</td>\n      <td>0.0</td>\n      <td>-0.381055</td>\n      <td>1</td>\n    </tr>\n    <tr>\n      <th>71525</th>\n      <td>0.000000</td>\n      <td>0.000000</td>\n      <td>1.024155</td>\n      <td>0.000000</td>\n      <td>0.000000</td>\n      <td>1.024155</td>\n      <td>0.000000</td>\n      <td>0.000000</td>\n      <td>0.000000</td>\n      <td>-0.975845</td>\n      <td>...</td>\n      <td>0.0</td>\n      <td>0.0</td>\n      <td>0.0</td>\n      <td>0.0</td>\n      <td>0.0</td>\n      <td>0.0</td>\n      <td>0.0</td>\n      <td>0.0</td>\n      <td>0.000000</td>\n      <td>2</td>\n    </tr>\n    <tr>\n      <th>71529</th>\n      <td>-1.391089</td>\n      <td>0.000000</td>\n      <td>0.000000</td>\n      <td>0.000000</td>\n      <td>0.000000</td>\n      <td>0.000000</td>\n      <td>0.000000</td>\n      <td>0.000000</td>\n      <td>0.000000</td>\n      <td>0.000000</td>\n      <td>...</td>\n      <td>0.0</td>\n      <td>0.0</td>\n      <td>0.0</td>\n      <td>0.0</td>\n      <td>0.0</td>\n      <td>0.0</td>\n      <td>0.0</td>\n      <td>0.0</td>\n      <td>0.000000</td>\n      <td>2</td>\n    </tr>\n    <tr>\n      <th>71534</th>\n      <td>0.000000</td>\n      <td>0.344118</td>\n      <td>0.000000</td>\n      <td>0.000000</td>\n      <td>0.000000</td>\n      <td>0.000000</td>\n      <td>0.000000</td>\n      <td>-0.155882</td>\n      <td>0.000000</td>\n      <td>0.000000</td>\n      <td>...</td>\n      <td>0.0</td>\n      <td>0.0</td>\n      <td>0.0</td>\n      <td>0.0</td>\n      <td>0.0</td>\n      <td>0.0</td>\n      <td>0.0</td>\n      <td>0.0</td>\n      <td>0.000000</td>\n      <td>2</td>\n    </tr>\n  </tbody>\n</table>\n<p>2113 rows × 10110 columns</p>\n</div>"
     },
     "execution_count": 221,
     "metadata": {},
     "output_type": "execute_result"
    }
   ],
   "source": [
    "user_movie = user_movie.fillna(0)\n",
    "user_movie"
   ],
   "metadata": {
    "collapsed": false
   }
  },
  {
   "cell_type": "code",
   "execution_count": 222,
   "outputs": [
    {
     "data": {
      "text/plain": "(array([[-5.31116106e-03, -3.49676819e-03,  1.45345839e-02, ...,\n          3.67048754e-03,  3.61706785e-03, -6.77394048e-04],\n        [-1.02983561e-02, -2.66297970e-02, -7.27570231e-03, ...,\n         -1.87128216e-03,  7.96008423e-04,  2.07045391e-05],\n        [-1.89705631e-03, -2.36091019e-03,  7.97048999e-03, ...,\n          4.81226592e-03, -1.29667836e-03,  5.64750502e-04],\n        ...,\n        [-1.43664614e-02,  1.92625527e-02,  1.47527592e-02, ...,\n         -1.12074634e-03,  1.34419449e-03, -2.69381169e-04],\n        [-5.65183451e-03,  1.13727881e-03,  1.52012377e-02, ...,\n          6.71352872e-03,  5.63935333e-03,  3.87636033e-03],\n        [-4.07453945e-03, -1.60400890e-02, -9.96338080e-04, ...,\n          5.74518791e-03, -2.97673679e-03, -6.68876287e-04]]),\n array([2.54243368e+02, 1.18995752e+02, 1.08917772e+02, ...,\n        6.17082484e-01, 5.08453775e-01, 1.28995361e-01]),\n array([[ 1.65425319e-02, -6.67289602e-02, -4.15557221e-02, ...,\n          3.93111492e-05,  4.57205881e-05, -2.01498396e-01],\n        [-1.17403816e-03, -2.18609299e-02,  7.18334991e-02, ...,\n         -1.11516301e-04,  2.41186716e-04, -1.71109999e-01],\n        [ 8.07362267e-03,  3.36356465e-02,  7.98436130e-02, ...,\n         -1.05167545e-04,  2.09000696e-04,  3.59657655e-01],\n        ...,\n        [ 4.08744202e-04, -3.44606121e-04,  3.37102735e-04, ...,\n          9.94377305e-01, -4.21683674e-05, -4.33680869e-19],\n        [-4.69244443e-05, -8.72554841e-05, -6.84744660e-05, ...,\n         -2.01760589e-05,  9.99722573e-01,  0.00000000e+00],\n        [ 5.70108490e-02, -6.09448882e-03,  1.23433593e-02, ...,\n         -2.30904947e-03,  1.08169738e-04, -2.77555756e-17]]))"
     },
     "execution_count": 222,
     "metadata": {},
     "output_type": "execute_result"
    }
   ],
   "source": [
    "u, s, vh = svd(user_movie.values)\n",
    "u, s, vh"
   ],
   "metadata": {
    "collapsed": false
   }
  },
  {
   "cell_type": "code",
   "execution_count": 223,
   "outputs": [
    {
     "data": {
      "text/plain": "(2113,\n 2113,\n array([-0.00531116, -0.00349677,  0.01453458, ...,  0.00367049,\n         0.00361707, -0.00067739]))"
     },
     "execution_count": 223,
     "metadata": {},
     "output_type": "execute_result"
    }
   ],
   "source": [
    "len(u), len(u[0]), u[0]"
   ],
   "metadata": {
    "collapsed": false
   }
  },
  {
   "cell_type": "code",
   "execution_count": 224,
   "outputs": [
    {
     "data": {
      "text/plain": "(2113,\n array([2.54243368e+02, 1.18995752e+02, 1.08917772e+02, ...,\n        6.17082484e-01, 5.08453775e-01, 1.28995361e-01]))"
     },
     "execution_count": 224,
     "metadata": {},
     "output_type": "execute_result"
    }
   ],
   "source": [
    "len(s), s"
   ],
   "metadata": {
    "collapsed": false
   }
  },
  {
   "cell_type": "code",
   "execution_count": 225,
   "outputs": [
    {
     "data": {
      "text/plain": "(10110,\n 10110,\n array([ 1.65425319e-02, -6.67289602e-02, -4.15557221e-02, ...,\n         3.93111492e-05,  4.57205881e-05, -2.01498396e-01]))"
     },
     "execution_count": 225,
     "metadata": {},
     "output_type": "execute_result"
    }
   ],
   "source": [
    "len(vh), len(vh[0]), vh[0]"
   ],
   "metadata": {
    "collapsed": false
   }
  },
  {
   "cell_type": "markdown",
   "source": [
    "Определим функцию `cosine_similarity` для вычисления косинусного сходства между двумя векторами."
   ],
   "metadata": {
    "collapsed": false
   }
  },
  {
   "cell_type": "code",
   "execution_count": 226,
   "outputs": [],
   "source": [
    "def cosine_similarity(v, u):\n",
    "    return (v @ u) / (np.linalg.norm(v) * np.linalg.norm(u))"
   ],
   "metadata": {
    "collapsed": false
   }
  },
  {
   "cell_type": "markdown",
   "source": [
    "Определим функцию `get_svd_similar` для получения столбца, наиболее похожего на данный столбец в матрице, на основе косинусного сходства."
   ],
   "metadata": {
    "collapsed": false
   }
  },
  {
   "cell_type": "code",
   "execution_count": 227,
   "outputs": [],
   "source": [
    "def get_svd_similar(id: int, _vh):\n",
    "    highest_similarity = -np.inf\n",
    "    highest_sim_col = -1\n",
    "\n",
    "    for col in range(1, _vh.shape[1]):\n",
    "        if col == id:\n",
    "            continue\n",
    "\n",
    "        similarity = cosine_similarity(_vh[:, id], _vh[:, col])\n",
    "\n",
    "        if similarity > highest_similarity:\n",
    "            highest_similarity = similarity\n",
    "            highest_sim_col = col\n",
    "\n",
    "    return highest_sim_col"
   ],
   "metadata": {
    "collapsed": false
   }
  },
  {
   "cell_type": "code",
   "execution_count": 228,
   "outputs": [
    {
     "data": {
      "text/plain": "'Base user - 78, similar user - 4375'"
     },
     "execution_count": 228,
     "metadata": {},
     "output_type": "execute_result"
    }
   ],
   "source": [
    "user_number = 1\n",
    "similar_user_number = get_svd_similar(user_number, vh)\n",
    "base_user_id = user_movie.index[user_number]\n",
    "similar_user_id = user_movie.index[similar_user_number]\n",
    "\n",
    "f'Base user - {base_user_id}, similar user - {similar_user_id}'"
   ],
   "metadata": {
    "collapsed": false
   }
  },
  {
   "cell_type": "code",
   "execution_count": 229,
   "outputs": [
    {
     "data": {
      "text/plain": "<Figure size 432x288 with 1 Axes>",
      "image/png": "[encoded data removed]"
     },
     "metadata": {},
     "output_type": "display_data"
    }
   ],
   "source": [
    "draw_common_movie_rates(base_user_id, similar_user_id, 10)"
   ],
   "metadata": {
    "collapsed": false
   }
  },
  {
   "cell_type": "code",
   "execution_count": 229,
   "outputs": [],
   "source": [],
   "metadata": {
    "collapsed": false
   }
  }
 ],
 "metadata": {
  "kernelspec": {
   "display_name": "Python 3",
   "language": "python",
   "name": "python3"
  },
  "language_info": {
   "codemirror_mode": {
    "name": "ipython",
    "version": 2
   },
   "file_extension": ".py",
   "mimetype": "text/x-python",
   "name": "python",
   "nbconvert_exporter": "python",
   "pygments_lexer": "ipython2",
   "version": "2.7.6"
  }
 },
 "nbformat": 4,
 "nbformat_minor": 0
}
